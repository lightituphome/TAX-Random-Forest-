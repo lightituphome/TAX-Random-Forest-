{
  "nbformat": 4,
  "nbformat_minor": 0,
  "metadata": {
    "colab": {
      "provenance": [],
      "authorship_tag": "ABX9TyOFTIQYc7kq38qC5rm+iCkE",
      "include_colab_link": true
    },
    "kernelspec": {
      "name": "python3",
      "display_name": "Python 3"
    },
    "language_info": {
      "name": "python"
    }
  },
  "cells": [
    {
      "cell_type": "markdown",
      "metadata": {
        "id": "view-in-github",
        "colab_type": "text"
      },
      "source": [
        "<a href=\"https://colab.research.google.com/github/lightituphome/TAX-Random-Forest-/blob/main/TAX(Random_Forest_Classification).ipynb\" target=\"_parent\"><img src=\"https://colab.research.google.com/assets/colab-badge.svg\" alt=\"Open In Colab\"/></a>"
      ]
    },
    {
      "cell_type": "code",
      "execution_count": null,
      "metadata": {
        "id": "s2xJjKY63T1U"
      },
      "outputs": [],
      "source": [
        "import numpy as np\n",
        "import pandas as pd\n",
        "import seaborn as sns\n",
        "import matplotlib.pyplot as plt\n",
        "from sklearn.model_selection import train_test_split\n",
        "from sklearn.ensemble import RandomForestClassifier\n",
        "from sklearn.metrics import accuracy_score"
      ]
    },
    {
      "cell_type": "code",
      "source": [
        "from google.colab import files\n",
        "files.upload()"
      ],
      "metadata": {
        "colab": {
          "base_uri": "https://localhost:8080/",
          "height": 128
        },
        "id": "-oCcL6Ot9TzO",
        "outputId": "ef910dc5-4bc3-4f44-fc6c-bebc0efe717c"
      },
      "execution_count": null,
      "outputs": [
        {
          "output_type": "display_data",
          "data": {
            "text/plain": [
              "<IPython.core.display.HTML object>"
            ],
            "text/html": [
              "\n",
              "     <input type=\"file\" id=\"files-0c251951-35ba-4d5a-8b7f-756def34e514\" name=\"files[]\" multiple disabled\n",
              "        style=\"border:none\" />\n",
              "     <output id=\"result-0c251951-35ba-4d5a-8b7f-756def34e514\">\n",
              "      Upload widget is only available when the cell has been executed in the\n",
              "      current browser session. Please rerun this cell to enable.\n",
              "      </output>\n",
              "      <script>// Copyright 2017 Google LLC\n",
              "//\n",
              "// Licensed under the Apache License, Version 2.0 (the \"License\");\n",
              "// you may not use this file except in compliance with the License.\n",
              "// You may obtain a copy of the License at\n",
              "//\n",
              "//      http://www.apache.org/licenses/LICENSE-2.0\n",
              "//\n",
              "// Unless required by applicable law or agreed to in writing, software\n",
              "// distributed under the License is distributed on an \"AS IS\" BASIS,\n",
              "// WITHOUT WARRANTIES OR CONDITIONS OF ANY KIND, either express or implied.\n",
              "// See the License for the specific language governing permissions and\n",
              "// limitations under the License.\n",
              "\n",
              "/**\n",
              " * @fileoverview Helpers for google.colab Python module.\n",
              " */\n",
              "(function(scope) {\n",
              "function span(text, styleAttributes = {}) {\n",
              "  const element = document.createElement('span');\n",
              "  element.textContent = text;\n",
              "  for (const key of Object.keys(styleAttributes)) {\n",
              "    element.style[key] = styleAttributes[key];\n",
              "  }\n",
              "  return element;\n",
              "}\n",
              "\n",
              "// Max number of bytes which will be uploaded at a time.\n",
              "const MAX_PAYLOAD_SIZE = 100 * 1024;\n",
              "\n",
              "function _uploadFiles(inputId, outputId) {\n",
              "  const steps = uploadFilesStep(inputId, outputId);\n",
              "  const outputElement = document.getElementById(outputId);\n",
              "  // Cache steps on the outputElement to make it available for the next call\n",
              "  // to uploadFilesContinue from Python.\n",
              "  outputElement.steps = steps;\n",
              "\n",
              "  return _uploadFilesContinue(outputId);\n",
              "}\n",
              "\n",
              "// This is roughly an async generator (not supported in the browser yet),\n",
              "// where there are multiple asynchronous steps and the Python side is going\n",
              "// to poll for completion of each step.\n",
              "// This uses a Promise to block the python side on completion of each step,\n",
              "// then passes the result of the previous step as the input to the next step.\n",
              "function _uploadFilesContinue(outputId) {\n",
              "  const outputElement = document.getElementById(outputId);\n",
              "  const steps = outputElement.steps;\n",
              "\n",
              "  const next = steps.next(outputElement.lastPromiseValue);\n",
              "  return Promise.resolve(next.value.promise).then((value) => {\n",
              "    // Cache the last promise value to make it available to the next\n",
              "    // step of the generator.\n",
              "    outputElement.lastPromiseValue = value;\n",
              "    return next.value.response;\n",
              "  });\n",
              "}\n",
              "\n",
              "/**\n",
              " * Generator function which is called between each async step of the upload\n",
              " * process.\n",
              " * @param {string} inputId Element ID of the input file picker element.\n",
              " * @param {string} outputId Element ID of the output display.\n",
              " * @return {!Iterable<!Object>} Iterable of next steps.\n",
              " */\n",
              "function* uploadFilesStep(inputId, outputId) {\n",
              "  const inputElement = document.getElementById(inputId);\n",
              "  inputElement.disabled = false;\n",
              "\n",
              "  const outputElement = document.getElementById(outputId);\n",
              "  outputElement.innerHTML = '';\n",
              "\n",
              "  const pickedPromise = new Promise((resolve) => {\n",
              "    inputElement.addEventListener('change', (e) => {\n",
              "      resolve(e.target.files);\n",
              "    });\n",
              "  });\n",
              "\n",
              "  const cancel = document.createElement('button');\n",
              "  inputElement.parentElement.appendChild(cancel);\n",
              "  cancel.textContent = 'Cancel upload';\n",
              "  const cancelPromise = new Promise((resolve) => {\n",
              "    cancel.onclick = () => {\n",
              "      resolve(null);\n",
              "    };\n",
              "  });\n",
              "\n",
              "  // Wait for the user to pick the files.\n",
              "  const files = yield {\n",
              "    promise: Promise.race([pickedPromise, cancelPromise]),\n",
              "    response: {\n",
              "      action: 'starting',\n",
              "    }\n",
              "  };\n",
              "\n",
              "  cancel.remove();\n",
              "\n",
              "  // Disable the input element since further picks are not allowed.\n",
              "  inputElement.disabled = true;\n",
              "\n",
              "  if (!files) {\n",
              "    return {\n",
              "      response: {\n",
              "        action: 'complete',\n",
              "      }\n",
              "    };\n",
              "  }\n",
              "\n",
              "  for (const file of files) {\n",
              "    const li = document.createElement('li');\n",
              "    li.append(span(file.name, {fontWeight: 'bold'}));\n",
              "    li.append(span(\n",
              "        `(${file.type || 'n/a'}) - ${file.size} bytes, ` +\n",
              "        `last modified: ${\n",
              "            file.lastModifiedDate ? file.lastModifiedDate.toLocaleDateString() :\n",
              "                                    'n/a'} - `));\n",
              "    const percent = span('0% done');\n",
              "    li.appendChild(percent);\n",
              "\n",
              "    outputElement.appendChild(li);\n",
              "\n",
              "    const fileDataPromise = new Promise((resolve) => {\n",
              "      const reader = new FileReader();\n",
              "      reader.onload = (e) => {\n",
              "        resolve(e.target.result);\n",
              "      };\n",
              "      reader.readAsArrayBuffer(file);\n",
              "    });\n",
              "    // Wait for the data to be ready.\n",
              "    let fileData = yield {\n",
              "      promise: fileDataPromise,\n",
              "      response: {\n",
              "        action: 'continue',\n",
              "      }\n",
              "    };\n",
              "\n",
              "    // Use a chunked sending to avoid message size limits. See b/62115660.\n",
              "    let position = 0;\n",
              "    do {\n",
              "      const length = Math.min(fileData.byteLength - position, MAX_PAYLOAD_SIZE);\n",
              "      const chunk = new Uint8Array(fileData, position, length);\n",
              "      position += length;\n",
              "\n",
              "      const base64 = btoa(String.fromCharCode.apply(null, chunk));\n",
              "      yield {\n",
              "        response: {\n",
              "          action: 'append',\n",
              "          file: file.name,\n",
              "          data: base64,\n",
              "        },\n",
              "      };\n",
              "\n",
              "      let percentDone = fileData.byteLength === 0 ?\n",
              "          100 :\n",
              "          Math.round((position / fileData.byteLength) * 100);\n",
              "      percent.textContent = `${percentDone}% done`;\n",
              "\n",
              "    } while (position < fileData.byteLength);\n",
              "  }\n",
              "\n",
              "  // All done.\n",
              "  yield {\n",
              "    response: {\n",
              "      action: 'complete',\n",
              "    }\n",
              "  };\n",
              "}\n",
              "\n",
              "scope.google = scope.google || {};\n",
              "scope.google.colab = scope.google.colab || {};\n",
              "scope.google.colab._files = {\n",
              "  _uploadFiles,\n",
              "  _uploadFilesContinue,\n",
              "};\n",
              "})(self);\n",
              "</script> "
            ]
          },
          "metadata": {}
        },
        {
          "output_type": "stream",
          "name": "stdout",
          "text": [
            "Saving Tax.csv to Tax.csv\n"
          ]
        },
        {
          "output_type": "execute_result",
          "data": {
            "text/plain": [
              "{'Tax.csv': b',HHI,HHDL,Married,CollegGrads,AHHAge,Cars,Filed in 2017,Filed in 2016,Filed in 2015,PoliticalParty\\r\\n1,49685,227187,0,0,105,0,1,1,1,Democrat\\r\\n2,64756,-507342,2,3,68,3,1,0,0,Independent\\r\\n3,115435,521290,1,3,81,2,0,1,0,Republican\\r\\n4,99454,251829,2,1,52,4,1,0,0,Republican\\r\\n5,157274,-472337,0,1,28,1,1,0,1,Independent\\r\\n6,235312,807659,2,2,45,0,1,0,0,Democrat\\r\\n7,158461,590203,2,0,74,0,0,1,0,Republican\\r\\n8,205734,416788,2,0,84,5,0,1,1,Democrat\\r\\n9,238581,812542,2,3,18,2,1,0,0,Republican\\r\\n10,214597,-193805,2,1,66,5,1,0,0,Democrat\\r\\n11,223819,243373,2,1,34,0,0,0,0,Democrat\\r\\n12,256348,-376906,0,2,47,1,1,0,1,Independent\\r\\n13,145298,-287587,0,3,62,1,1,0,1,Republican\\r\\n14,225764,735274,2,4,72,4,1,0,1,Independent\\r\\n15,251149,-48468,0,1,87,3,0,1,0,Republican\\r\\n16,215804,196355,1,3,28,4,0,1,1,Republican\\r\\n17,253274,-633752,2,1,94,3,0,1,1,Republican\\r\\n18,98778,949616,0,4,60,3,1,0,0,Republican\\r\\n19,180631,-110700,1,2,68,3,0,0,0,Democrat\\r\\n20,212796,709226,1,2,57,3,1,0,1,Independent\\r\\n21,8389,571059,0,4,56,0,0,0,0,Independent\\r\\n22,157232,-508465,1,3,22,5,0,0,1,Independent\\r\\n23,72199,-466782,2,4,29,1,0,0,0,Democrat\\r\\n24,110230,228644,0,3,69,4,0,1,0,Independent\\r\\n25,280874,996100,0,0,72,1,0,0,1,Independent\\r\\n26,58349,-347831,1,3,85,0,0,0,1,Republican\\r\\n27,115898,-467311,1,3,73,3,0,0,1,Republican\\r\\n28,181041,-838561,2,0,83,0,0,0,0,Republican\\r\\n29,244708,734172,0,4,33,1,0,1,1,Independent\\r\\n30,280202,551223,2,2,85,4,0,1,1,Republican\\r\\n31,37718,356663,1,1,21,5,1,0,0,Independent\\r\\n32,156150,-878490,2,3,30,4,0,0,1,Republican\\r\\n33,132583,-295516,2,3,26,2,0,0,1,Democrat\\r\\n34,227055,477717,0,0,30,1,1,1,1,Republican\\r\\n35,131676,-116593,1,4,56,3,1,1,1,Democrat\\r\\n36,172086,-977715,2,3,47,1,1,0,0,Democrat\\r\\n37,41451,657332,2,5,68,4,1,0,0,Republican\\r\\n38,143976,-993611,2,1,43,1,1,0,0,Independent\\r\\n39,153052,-606726,1,2,75,2,1,0,1,Democrat\\r\\n40,187136,-515862,0,1,52,1,1,0,1,Democrat\\r\\n41,56319,251659,0,2,86,5,1,0,0,Democrat\\r\\n42,257632,904991,2,4,90,5,1,1,1,Independent\\r\\n43,15617,407762,0,5,46,0,0,0,0,Democrat\\r\\n44,173107,363472,1,3,63,1,0,0,0,Democrat\\r\\n45,194010,-314246,1,2,20,0,1,1,1,Independent\\r\\n46,269969,-700509,1,0,86,5,0,0,1,Democrat\\r\\n47,125123,-925983,0,5,50,4,0,0,0,Independent\\r\\n48,230438,955996,0,3,80,5,1,1,0,Republican\\r\\n49,116646,-975842,2,5,36,5,0,0,0,Democrat\\r\\n50,87072,-371829,2,0,30,0,0,0,1,Independent\\r\\n51,138204,144986,1,1,63,1,1,1,0,Independent\\r\\n52,107381,-9981,1,1,31,2,1,1,0,Democrat\\r\\n53,242682,-216274,2,2,84,5,1,1,0,Independent\\r\\n54,107448,765465,1,1,33,0,0,1,0,Democrat\\r\\n55,279231,260794,0,2,71,5,0,1,0,Republican\\r\\n56,114371,650161,2,3,82,3,0,1,0,Independent\\r\\n57,128669,341273,0,0,92,4,1,1,1,Republican\\r\\n58,107196,-454175,1,0,43,3,1,0,0,Democrat\\r\\n59,47132,-373946,1,4,32,1,0,1,0,Independent\\r\\n60,191199,-867105,1,3,104,4,0,1,0,Independent\\r\\n61,183414,-12402,1,2,28,1,0,0,1,Democrat\\r\\n62,296757,219559,1,3,89,1,1,0,0,Independent\\r\\n63,205956,-346390,1,0,67,4,0,0,1,Republican\\r\\n64,152501,412431,1,1,47,1,0,1,1,Independent\\r\\n65,236651,-312698,0,0,27,2,0,1,0,Democrat\\r\\n66,15952,-470555,2,4,61,4,0,1,1,Democrat\\r\\n67,250816,908585,2,0,83,0,1,1,1,Independent\\r\\n68,86236,-641466,1,2,44,4,0,1,1,Democrat\\r\\n69,137668,719224,2,3,46,3,1,1,1,Republican\\r\\n70,146555,-448185,0,2,58,5,1,1,1,Republican\\r\\n71,138961,710524,0,2,62,2,1,0,0,Democrat\\r\\n72,97076,860456,1,1,62,5,1,0,1,Republican\\r\\n73,64682,597517,0,5,38,4,1,0,0,Democrat\\r\\n74,167510,547111,1,4,65,1,0,1,1,Independent\\r\\n75,14623,282132,2,5,102,2,0,0,1,Independent\\r\\n76,156542,679186,0,5,74,5,0,1,1,Democrat\\r\\n77,79669,-416146,1,2,75,0,1,1,0,Democrat\\r\\n78,46758,-753137,1,0,46,2,1,0,0,Independent\\r\\n79,132075,-320976,1,5,55,2,0,1,1,Independent\\r\\n80,188541,607731,0,5,44,4,0,1,1,Independent\\r\\n81,22659,853066,0,5,34,0,0,1,1,Democrat\\r\\n82,129537,-864214,1,3,59,0,0,0,0,Republican\\r\\n83,213551,549486,0,5,53,4,1,1,1,Democrat\\r\\n84,203810,-795334,0,0,37,3,0,0,0,Independent\\r\\n85,244097,-535697,2,4,73,4,1,1,0,Independent\\r\\n86,213667,-876390,0,4,73,2,1,0,1,Republican\\r\\n87,284532,543020,2,2,21,0,0,0,1,Democrat\\r\\n88,35632,-176036,0,1,23,0,0,1,1,Independent\\r\\n89,133475,507913,2,5,74,5,1,0,1,Republican\\r\\n90,175698,235377,2,2,74,0,1,0,1,Republican\\r\\n91,234370,-574764,2,4,99,1,0,0,0,Republican\\r\\n92,237567,1989,2,5,42,2,0,0,1,Democrat\\r\\n93,275648,-482168,1,3,89,0,1,1,0,Republican\\r\\n94,250992,571847,1,3,49,1,0,1,1,Democrat\\r\\n95,43495,921079,1,3,83,2,1,0,1,Republican\\r\\n96,240170,-514276,1,5,49,4,1,1,1,Democrat\\r\\n97,36662,-395074,0,5,47,1,0,1,1,Democrat\\r\\n98,212602,842876,2,1,78,3,0,1,1,Independent\\r\\n99,275942,-749539,0,4,69,4,1,0,0,Democrat\\r\\n100,261449,560076,1,2,105,3,1,0,0,Independent\\r\\n101,158061,-689731,1,5,26,0,0,1,1,Independent\\r\\n102,119707,881735,1,3,35,4,1,0,1,Republican\\r\\n103,118451,-322270,2,5,84,0,1,1,0,Democrat\\r\\n104,100622,887618,0,3,63,4,0,1,0,Democrat\\r\\n105,212679,-297039,2,1,21,0,0,1,1,Independent\\r\\n106,127143,-668508,1,0,28,4,1,0,1,Republican\\r\\n107,280038,216368,0,2,86,1,1,0,0,Democrat\\r\\n108,175184,43327,1,0,18,1,0,1,0,Independent\\r\\n109,185442,-631055,2,5,25,1,0,0,0,Republican\\r\\n110,125494,-504323,2,5,65,5,1,1,1,Republican\\r\\n111,280231,-840595,0,1,85,5,1,1,1,Republican\\r\\n112,36210,-426622,1,4,43,2,1,0,1,Republican\\r\\n113,93548,222370,0,1,97,4,0,1,0,Democrat\\r\\n114,103839,-768981,2,0,56,2,1,0,1,Democrat\\r\\n115,290799,116498,2,0,18,2,0,0,1,Republican\\r\\n116,286067,-863322,2,4,29,2,1,1,0,Republican\\r\\n117,150694,-947643,1,0,102,3,1,1,1,Independent\\r\\n118,292695,182068,1,1,79,0,0,0,1,Independent\\r\\n119,43081,-384338,0,0,49,2,1,1,0,Democrat\\r\\n120,71423,942803,0,0,30,3,1,0,0,Republican\\r\\n121,152707,435572,1,0,36,5,0,1,1,Democrat\\r\\n122,261325,582737,0,1,77,1,1,1,0,Independent\\r\\n123,196970,-190655,0,3,50,5,0,0,0,Republican\\r\\n124,238857,-405651,1,5,37,2,0,1,0,Independent\\r\\n125,34017,-168251,2,4,33,2,1,0,1,Independent\\r\\n126,123667,458574,1,1,54,3,0,1,1,Republican\\r\\n127,196937,-908509,2,2,50,3,1,1,0,Independent\\r\\n128,273517,-381823,1,1,25,1,1,0,1,Independent\\r\\n129,120723,-497988,1,2,31,2,1,0,0,Republican\\r\\n130,36308,985448,0,3,33,1,1,1,1,Democrat\\r\\n131,253470,-807593,0,3,85,3,0,1,1,Independent\\r\\n132,164544,-862568,2,5,43,4,0,0,0,Democrat\\r\\n133,23364,799139,0,5,79,4,1,1,1,Republican\\r\\n134,16597,195542,1,1,24,2,0,0,0,Democrat\\r\\n135,290691,550445,0,2,21,1,1,0,0,Republican\\r\\n136,262108,998416,1,3,41,4,1,0,1,Democrat\\r\\n137,7673,232530,0,1,86,2,1,0,1,Democrat\\r\\n138,166154,-359718,2,0,20,2,0,1,0,Independent\\r\\n139,190161,-450855,1,2,69,0,0,1,1,Democrat\\r\\n140,43040,198330,0,0,34,4,0,0,0,Democrat\\r\\n141,270639,889292,2,4,100,5,1,1,0,Independent\\r\\n142,26499,-236888,0,4,100,5,1,1,1,Independent\\r\\n143,97915,773185,2,2,91,0,1,0,1,Democrat\\r\\n144,25374,-789795,0,0,105,5,1,1,1,Democrat\\r\\n145,259502,-159724,2,1,101,3,1,1,1,Independent\\r\\n146,298548,-139234,0,0,62,2,0,1,1,Democrat\\r\\n147,22564,885633,1,1,20,2,1,1,0,Independent\\r\\n148,224496,-314505,2,5,101,0,0,1,1,Independent\\r\\n149,203924,42745,2,4,101,2,0,1,1,Republican\\r\\n150,69298,-593179,0,3,80,0,1,1,1,Independent\\r\\n151,163328,153024,0,2,82,0,1,0,1,Independent\\r\\n152,32075,944292,1,1,77,2,1,0,1,Independent\\r\\n153,105882,-623824,1,2,22,3,0,1,1,Democrat\\r\\n154,178409,5036,2,0,69,0,1,0,0,Democrat\\r\\n155,19373,-115780,1,0,36,0,0,1,0,Independent\\r\\n156,77522,102996,0,5,86,0,0,0,0,Democrat\\r\\n157,296642,942157,1,0,75,0,0,0,0,Democrat\\r\\n158,113140,529624,1,5,38,5,0,1,0,Republican\\r\\n159,254366,-622995,2,3,30,4,0,1,1,Democrat\\r\\n160,13093,77757,1,2,72,2,1,0,1,Republican\\r\\n161,277176,546430,0,4,77,5,1,1,0,Independent\\r\\n162,257376,-423819,2,4,46,0,1,1,0,Republican\\r\\n163,285706,-626849,0,2,92,3,1,1,1,Republican\\r\\n164,282321,-360451,1,5,100,4,0,1,1,Republican\\r\\n165,206620,327040,0,5,91,4,0,0,1,Democrat\\r\\n166,296785,779184,1,1,89,4,0,1,1,Republican\\r\\n167,229061,-501536,2,5,69,0,0,0,0,Republican\\r\\n168,101215,322673,2,0,59,2,1,1,1,Independent\\r\\n169,100974,-813678,0,2,39,1,0,1,1,Republican\\r\\n170,52566,-988427,1,2,73,0,0,1,0,Democrat\\r\\n171,38798,-85916,1,3,64,3,0,1,1,Independent\\r\\n172,138189,160699,1,0,88,5,1,1,0,Republican\\r\\n173,281737,244382,2,3,101,1,1,0,1,Democrat\\r\\n174,2808,-428,1,3,57,5,1,1,0,Independent\\r\\n175,214242,-249444,1,3,50,3,0,1,0,Independent\\r\\n176,154725,-949828,0,5,20,5,1,1,0,Democrat\\r\\n177,261653,268140,1,4,53,2,1,1,1,Republican\\r\\n178,147267,959385,1,4,24,1,0,0,1,Independent\\r\\n179,87271,-919843,2,2,105,3,0,0,1,Independent\\r\\n180,55643,-78079,1,5,75,0,0,1,0,Democrat\\r\\n181,225938,421635,2,2,39,3,0,1,1,Republican\\r\\n182,144741,90861,2,4,65,2,1,1,0,Democrat\\r\\n183,19326,85488,0,5,52,0,0,0,1,Democrat\\r\\n184,89126,634277,1,0,37,3,0,1,0,Republican\\r\\n185,75413,-681544,1,2,36,2,0,1,0,Independent\\r\\n186,289378,-598087,2,4,51,1,1,0,0,Independent\\r\\n187,199681,-732765,0,3,36,2,0,1,1,Democrat\\r\\n188,167963,-243890,0,2,92,4,1,0,0,Republican\\r\\n189,154817,-736638,0,3,46,5,0,0,1,Democrat\\r\\n190,227767,391495,0,1,69,2,0,0,1,Republican\\r\\n191,4120,-820956,1,1,63,0,0,0,1,Republican\\r\\n192,110341,-170580,2,1,93,0,0,1,0,Independent\\r\\n193,43133,-191680,0,0,84,2,1,0,1,Republican\\r\\n194,156302,-514767,0,4,26,0,1,0,0,Republican\\r\\n195,174227,576098,0,2,56,0,0,1,1,Democrat\\r\\n196,176708,-355924,1,5,69,2,1,0,0,Independent\\r\\n197,198590,535510,1,4,40,1,0,0,0,Republican\\r\\n198,490,630184,1,5,57,1,0,1,0,Democrat\\r\\n199,197236,-83586,2,1,52,0,0,0,0,Republican\\r\\n200,38225,-615113,0,0,27,3,0,1,0,Independent\\r\\n201,4338,930708,2,4,88,0,0,0,1,Democrat\\r\\n202,221093,189150,0,2,60,4,1,0,0,Democrat\\r\\n203,15103,32148,1,1,31,1,1,0,1,Independent\\r\\n204,141743,-846450,2,1,72,0,1,0,0,Independent\\r\\n205,101034,984867,0,5,61,4,0,1,0,Democrat\\r\\n206,206632,610527,2,1,29,5,0,1,0,Republican\\r\\n207,254469,-224440,0,5,91,5,0,1,0,Democrat\\r\\n208,238290,-449582,2,0,80,0,1,1,0,Democrat\\r\\n209,77506,876044,0,3,24,4,0,1,0,Independent\\r\\n210,115253,160532,1,0,49,3,0,0,1,Republican\\r\\n211,34115,673353,2,4,23,4,1,1,0,Democrat\\r\\n212,276093,94528,0,4,82,1,0,0,1,Independent\\r\\n213,160685,707971,2,4,19,0,0,1,1,Independent\\r\\n214,288968,-211093,2,1,25,0,0,1,1,Democrat\\r\\n215,92449,160055,0,0,89,3,1,0,1,Democrat\\r\\n216,215128,760261,2,4,38,3,0,1,0,Democrat\\r\\n217,95048,251786,1,3,93,1,0,1,0,Democrat\\r\\n218,15173,-895090,0,1,42,0,1,0,1,Independent\\r\\n219,277541,-775908,0,5,63,2,1,0,1,Republican\\r\\n220,281712,-751805,0,2,38,1,0,1,1,Republican\\r\\n221,73899,-949349,0,5,33,1,0,0,0,Democrat\\r\\n222,246418,-69030,1,0,51,4,0,0,1,Republican\\r\\n223,33401,619993,2,3,51,3,0,1,1,Independent\\r\\n224,111874,300583,0,2,46,3,0,1,1,Republican\\r\\n225,109652,985302,1,5,87,0,1,0,0,Republican\\r\\n226,21124,-469399,0,4,100,5,1,0,0,Republican\\r\\n227,158376,464789,1,1,55,5,1,0,0,Republican\\r\\n228,255916,848744,2,3,79,2,0,0,1,Independent\\r\\n229,121090,270171,0,1,46,4,0,1,1,Republican\\r\\n230,79242,978259,1,1,64,3,1,0,0,Democrat\\r\\n231,182832,201229,0,0,103,3,1,1,0,Independent\\r\\n232,117765,152579,0,2,67,5,1,0,1,Republican\\r\\n233,184691,981581,1,5,29,3,1,1,1,Independent\\r\\n234,195660,-656380,0,5,84,0,0,0,0,Republican\\r\\n235,152800,960463,2,2,104,1,0,1,1,Independent\\r\\n236,197243,-259522,2,3,32,4,1,1,0,Republican\\r\\n237,17360,-743456,2,1,56,0,1,1,0,Democrat\\r\\n238,38836,-694939,1,0,30,3,0,1,1,Republican\\r\\n239,75289,-760028,0,3,80,2,1,0,0,Democrat\\r\\n240,156475,37121,2,4,97,2,0,0,0,Republican\\r\\n241,154850,846122,2,5,87,3,1,1,1,Republican\\r\\n242,206154,121704,2,1,104,4,1,0,1,Independent\\r\\n243,287490,324677,0,1,56,2,1,1,0,Democrat\\r\\n244,112362,969322,2,3,51,4,1,0,1,Republican\\r\\n245,118805,-952535,0,2,70,5,1,0,1,Independent\\r\\n246,243999,-542113,0,2,32,2,0,0,1,Independent\\r\\n247,3053,725838,0,4,87,5,1,1,1,Independent\\r\\n248,176444,-911097,1,5,42,4,1,0,0,Democrat\\r\\n249,234252,-949315,2,0,67,1,1,0,0,Democrat\\r\\n250,109687,-473327,2,5,84,2,0,0,1,Democrat\\r\\n251,220331,-696508,0,4,69,1,0,0,1,Democrat\\r\\n252,92331,909360,2,4,73,1,1,0,0,Republican\\r\\n253,246215,-234632,2,4,34,0,0,0,0,Republican\\r\\n254,184941,-945015,0,3,93,0,0,0,1,Republican\\r\\n255,258049,-505412,1,3,95,5,1,1,0,Independent\\r\\n256,273506,-687525,2,2,69,2,0,1,0,Democrat\\r\\n257,256608,-97731,1,5,105,0,0,0,1,Republican\\r\\n258,14193,-401626,2,2,27,2,0,1,0,Democrat\\r\\n259,180406,-238327,1,5,102,0,1,0,0,Democrat\\r\\n260,144217,-488672,1,0,65,4,1,0,0,Republican\\r\\n261,153930,494379,1,2,40,0,0,1,1,Independent\\r\\n262,52243,-898873,0,5,102,1,1,0,1,Republican\\r\\n263,36630,860777,2,5,86,0,0,1,1,Democrat\\r\\n264,29291,66969,2,1,65,5,0,0,1,Republican\\r\\n265,165899,-793472,2,0,21,2,0,0,0,Democrat\\r\\n266,290856,-557498,0,4,51,4,0,0,1,Democrat\\r\\n267,157710,683066,0,3,97,5,1,0,1,Republican\\r\\n268,288902,-600704,0,3,23,1,0,0,1,Democrat\\r\\n269,205704,123093,1,2,90,1,1,0,1,Independent\\r\\n270,30966,-449143,2,4,94,2,0,0,1,Democrat\\r\\n271,208935,-947247,1,4,39,2,0,1,0,Democrat\\r\\n272,205692,-305248,1,1,82,4,0,0,0,Republican\\r\\n273,36659,-21755,0,3,104,2,0,1,0,Republican\\r\\n274,129274,670779,0,1,51,0,1,0,0,Independent\\r\\n275,100820,458622,0,3,27,4,1,0,1,Democrat\\r\\n276,74900,314435,0,5,43,4,0,1,1,Independent\\r\\n277,129492,-688672,2,1,29,2,1,0,0,Republican\\r\\n278,43077,-959878,1,4,38,0,1,0,1,Democrat\\r\\n279,64672,754603,0,5,64,2,0,1,1,Independent\\r\\n280,170346,495623,0,1,65,4,0,1,0,Independent\\r\\n281,148836,-683219,2,2,67,2,1,1,0,Independent\\r\\n282,170736,-547044,2,5,65,4,0,1,0,Republican\\r\\n283,153957,-860777,2,2,21,0,1,0,0,Democrat\\r\\n284,264587,120313,0,0,80,3,1,0,1,Republican\\r\\n285,13417,-959440,1,0,47,4,0,1,0,Republican\\r\\n286,206164,-32724,2,1,52,4,1,1,0,Republican\\r\\n287,149858,-234826,2,1,71,5,1,1,1,Independent\\r\\n288,257257,838257,0,3,97,5,0,1,1,Democrat\\r\\n289,229943,760252,2,1,67,1,0,1,1,Independent\\r\\n290,260055,802855,2,1,94,1,1,0,1,Independent\\r\\n291,2018,696325,1,3,73,2,0,0,0,Independent\\r\\n292,288754,-387789,0,5,99,2,0,0,0,Democrat\\r\\n293,212358,-607134,2,2,60,5,1,1,0,Republican\\r\\n294,235178,-22992,0,0,55,2,1,1,1,Democrat\\r\\n295,139045,-728276,0,2,44,5,1,1,1,Republican\\r\\n296,153971,42200,1,3,76,0,1,1,0,Democrat\\r\\n297,212736,358353,1,4,37,2,1,0,1,Republican\\r\\n298,161541,-526601,0,2,59,2,1,1,1,Republican\\r\\n299,236393,-128169,2,1,23,2,0,1,1,Independent\\r\\n300,119075,-989833,0,4,48,4,0,0,1,Independent\\r\\n301,131355,460265,1,1,103,0,1,0,1,Democrat\\r\\n302,294254,724619,0,5,103,3,1,1,1,Republican\\r\\n303,278838,-518499,1,2,103,3,0,1,0,Independent\\r\\n304,32693,-299638,1,5,50,4,0,1,0,Independent\\r\\n305,229092,833796,2,3,98,1,1,0,1,Republican\\r\\n306,70591,-986287,0,4,36,1,1,1,1,Independent\\r\\n307,169863,537778,1,1,67,0,1,1,1,Republican\\r\\n308,222692,148167,2,4,105,3,1,1,1,Independent\\r\\n309,82325,53270,2,3,28,4,1,1,0,Republican\\r\\n310,245926,948821,1,0,76,1,0,0,0,Democrat\\r\\n311,144822,-978515,1,2,103,4,1,0,1,Independent\\r\\n312,120085,-8056,2,5,88,0,0,1,0,Democrat\\r\\n313,232141,872579,0,5,69,5,1,1,1,Independent\\r\\n314,260431,-159905,1,4,56,5,1,1,1,Independent\\r\\n315,219374,-629029,0,1,18,4,1,1,0,Republican\\r\\n316,3748,-924866,2,5,49,4,1,0,1,Independent\\r\\n317,244645,619131,1,5,85,0,0,1,0,Independent\\r\\n318,106444,-133773,2,1,93,4,0,1,0,Independent\\r\\n319,298364,195598,0,2,45,0,1,0,0,Democrat\\r\\n320,28551,163763,0,4,20,2,0,1,1,Republican\\r\\n321,297206,-82809,2,1,37,1,1,1,0,Independent\\r\\n322,212433,-808216,1,3,20,2,1,0,1,Democrat\\r\\n323,117730,-54651,2,2,104,3,0,1,1,Democrat\\r\\n324,156134,582329,1,3,88,1,0,1,0,Republican\\r\\n325,66536,136220,1,3,29,2,0,1,0,Independent\\r\\n326,243971,-959200,1,5,64,2,0,0,1,Independent\\r\\n327,244608,10431,2,3,54,2,0,0,1,Democrat\\r\\n328,2488,73466,1,1,29,0,1,0,1,Democrat\\r\\n329,81567,-24440,0,5,76,4,0,0,0,Democrat\\r\\n330,141592,-394474,2,5,95,4,1,1,1,Independent\\r\\n331,84442,508306,0,0,61,1,1,0,1,Republican\\r\\n332,209235,316489,0,3,95,5,0,1,0,Democrat\\r\\n333,84147,-242712,2,3,102,1,0,0,0,Republican\\r\\n334,253084,-347310,2,4,69,1,1,0,1,Independent\\r\\n335,61652,-851655,1,2,43,0,0,1,0,Republican\\r\\n336,1075,28413,2,2,55,4,0,0,1,Independent\\r\\n337,108921,250278,1,3,40,4,0,1,0,Independent\\r\\n338,264,706896,0,5,25,5,0,1,0,Republican\\r\\n339,180234,-970048,0,2,60,4,0,0,1,Independent\\r\\n340,157845,-233206,0,4,28,0,0,1,0,Republican\\r\\n341,1418,634040,2,3,61,4,1,1,0,Democrat\\r\\n342,244938,-169661,0,2,69,5,1,0,0,Democrat\\r\\n343,89800,410374,2,5,65,5,0,1,0,Democrat\\r\\n344,246267,-724724,2,2,87,2,0,0,0,Republican\\r\\n345,235094,-115596,2,2,73,5,0,1,0,Republican\\r\\n346,280465,-556161,1,1,35,0,0,1,0,Democrat\\r\\n347,260863,-848836,0,3,48,4,1,1,0,Independent\\r\\n348,23149,568089,2,3,39,1,1,1,1,Independent\\r\\n349,178386,276652,1,4,101,0,0,0,1,Democrat\\r\\n350,267907,-100608,2,2,98,3,1,1,0,Democrat\\r\\n351,210527,-840896,2,4,80,3,1,0,1,Democrat\\r\\n352,100603,14806,1,5,101,3,1,0,1,Democrat\\r\\n353,232189,925294,0,1,37,2,1,1,0,Republican\\r\\n354,278836,239663,0,1,101,1,0,1,0,Republican\\r\\n355,65298,-908585,2,4,51,2,0,0,0,Independent\\r\\n356,109129,-257620,2,1,38,5,1,0,0,Republican\\r\\n357,294359,-434206,0,4,21,4,0,0,1,Republican\\r\\n358,162824,941362,1,4,35,3,1,0,0,Republican\\r\\n359,117197,673262,1,1,38,3,0,0,1,Independent\\r\\n360,296248,-800686,2,1,47,3,1,1,1,Republican\\r\\n361,96645,591443,0,2,35,0,0,1,1,Democrat\\r\\n362,219304,652563,0,5,35,4,0,0,0,Independent\\r\\n363,224462,502534,0,4,39,3,1,1,0,Independent\\r\\n364,14536,-934016,0,0,31,0,1,0,0,Independent\\r\\n365,84410,-9078,0,0,102,4,1,0,1,Democrat\\r\\n366,277802,-829941,2,4,93,0,1,0,0,Democrat\\r\\n367,218086,-188477,1,0,40,3,0,1,1,Republican\\r\\n368,253977,-154143,0,0,48,3,1,1,0,Independent\\r\\n369,40205,575137,0,3,70,0,1,0,1,Independent\\r\\n370,295840,904853,0,4,76,1,1,1,0,Independent\\r\\n371,87507,-158453,2,1,56,3,0,1,0,Republican\\r\\n372,106755,898140,1,0,44,2,1,1,1,Republican\\r\\n373,182594,-745045,1,3,32,2,0,0,0,Democrat\\r\\n374,227362,-793119,1,0,38,5,1,1,0,Republican\\r\\n375,51422,-506994,2,2,30,5,0,0,1,Republican\\r\\n376,159101,-261762,2,5,49,3,0,1,1,Independent\\r\\n377,21716,244503,1,2,71,1,0,0,0,Independent\\r\\n378,104948,-542107,0,1,74,1,1,1,1,Democrat\\r\\n379,114435,-937147,2,0,43,2,1,1,1,Independent\\r\\n380,82421,618505,1,2,33,0,1,0,0,Republican\\r\\n381,23186,-315841,1,4,65,5,1,0,0,Independent\\r\\n382,267153,160712,2,3,90,5,1,0,0,Republican\\r\\n383,177223,-635180,1,0,77,3,0,1,0,Republican\\r\\n384,139031,-328079,1,0,87,3,0,1,0,Democrat\\r\\n385,206495,-253254,2,4,59,1,0,0,0,Democrat\\r\\n386,121691,-662801,0,0,70,1,0,1,1,Republican\\r\\n387,215330,-299724,2,3,68,3,1,1,0,Independent\\r\\n388,126128,897214,0,2,47,1,0,0,0,Democrat\\r\\n389,170972,194237,2,3,64,4,0,1,0,Democrat\\r\\n390,33547,353240,2,2,21,1,0,1,1,Republican\\r\\n391,82911,-924651,2,4,83,2,1,1,0,Independent\\r\\n392,164337,-949082,2,2,19,0,1,0,0,Republican\\r\\n393,245949,447590,2,1,26,0,1,0,1,Independent\\r\\n394,238384,652641,0,4,60,3,0,1,0,Democrat\\r\\n395,286773,845681,2,2,94,1,1,1,0,Independent\\r\\n396,156210,983107,2,5,99,2,1,0,0,Democrat\\r\\n397,194824,-564853,2,5,62,5,1,0,1,Democrat\\r\\n398,239303,990075,0,2,71,3,1,0,1,Independent\\r\\n399,194935,359353,0,1,18,3,0,1,1,Independent\\r\\n400,81826,-177427,2,3,27,5,1,0,1,Independent\\r\\n401,154528,289471,1,4,57,3,0,1,1,Democrat\\r\\n402,17175,-292961,0,5,92,4,1,1,1,Independent\\r\\n403,204861,-194267,1,5,102,1,1,1,0,Republican\\r\\n404,12693,-46325,1,4,76,1,1,1,0,Democrat\\r\\n405,254495,-411697,0,1,32,4,0,0,0,Democrat\\r\\n406,220461,-246624,1,5,30,0,1,0,1,Independent\\r\\n407,117368,-26091,1,1,96,0,1,0,0,Republican\\r\\n408,29958,266524,1,4,22,2,0,1,0,Republican\\r\\n409,237466,-328701,0,3,65,1,0,1,0,Republican\\r\\n410,162221,-626796,1,5,36,1,1,1,1,Republican\\r\\n411,108532,-27879,1,1,57,3,1,1,0,Independent\\r\\n412,260909,279015,0,3,61,4,0,1,1,Democrat\\r\\n413,270562,280575,0,1,63,0,0,0,1,Republican\\r\\n414,184466,-877445,1,5,96,2,1,1,1,Independent\\r\\n415,178785,599448,1,3,67,3,0,1,1,Independent\\r\\n416,248299,758183,1,4,50,1,1,0,0,Republican\\r\\n417,137468,393672,2,3,39,0,1,1,0,Republican\\r\\n418,159843,829341,0,1,77,4,1,0,1,Independent\\r\\n419,59406,-758380,1,4,24,0,0,0,0,Republican\\r\\n420,69766,529901,0,1,33,3,1,1,0,Democrat\\r\\n421,228925,11615,1,5,80,0,0,1,1,Independent\\r\\n422,228576,703510,0,0,24,3,1,0,0,Democrat\\r\\n423,94844,344934,2,2,44,3,1,0,1,Republican\\r\\n424,285196,-751620,0,0,27,4,1,1,1,Democrat\\r\\n425,19126,-820606,0,4,68,1,0,0,0,Independent\\r\\n426,194783,-592854,1,3,18,3,0,1,0,Republican\\r\\n427,260606,231165,1,0,101,5,1,0,0,Independent\\r\\n428,246599,406456,2,0,97,5,1,1,1,Independent\\r\\n429,220443,-565435,1,5,102,5,0,1,0,Independent\\r\\n430,19627,773870,2,4,80,5,1,0,1,Democrat\\r\\n431,114693,-68565,0,1,37,4,0,0,1,Democrat\\r\\n432,237442,-360717,2,0,72,4,0,0,1,Republican\\r\\n433,120949,728261,2,1,20,3,0,1,1,Republican\\r\\n434,267461,-290422,1,1,98,0,1,1,1,Independent\\r\\n435,113591,477584,1,3,28,4,0,1,0,Democrat\\r\\n436,116951,560163,0,5,50,1,0,0,1,Republican\\r\\n437,266989,-796477,1,0,45,4,1,1,0,Democrat\\r\\n438,83484,75198,0,0,100,0,1,0,0,Independent\\r\\n439,91102,855371,1,1,40,4,1,1,1,Democrat\\r\\n440,197501,-982507,0,0,27,1,1,1,1,Democrat\\r\\n441,270008,-993200,1,1,92,2,0,1,1,Republican\\r\\n442,104197,-507272,2,1,62,1,0,0,1,Independent\\r\\n443,31307,439001,1,4,66,5,0,1,0,Republican\\r\\n444,150777,383745,1,3,47,0,0,1,1,Democrat\\r\\n445,255838,958443,1,2,75,0,1,1,0,Republican\\r\\n446,148050,-520294,0,2,42,1,1,0,1,Democrat\\r\\n447,180568,-9859,2,4,47,1,0,1,1,Republican\\r\\n448,201742,-866541,1,1,47,4,0,1,1,Democrat\\r\\n449,164018,254442,2,0,32,0,1,0,0,Democrat\\r\\n450,244231,-830256,2,0,42,4,1,1,0,Democrat\\r\\n451,70218,-217065,2,1,55,1,0,0,0,Independent\\r\\n452,234901,-773242,0,1,80,2,0,1,0,Democrat\\r\\n453,118915,62645,0,0,49,3,1,0,0,Democrat\\r\\n454,223577,-116014,0,4,43,0,1,0,1,Republican\\r\\n455,250718,-511594,0,5,65,4,0,0,1,Democrat\\r\\n456,75082,853800,0,4,20,1,1,1,1,Democrat\\r\\n457,35860,-856096,0,0,47,0,1,1,1,Independent\\r\\n458,187504,-354756,1,0,43,5,1,1,1,Independent\\r\\n459,255456,445245,1,2,36,3,0,0,1,Republican\\r\\n460,164922,-320332,1,5,31,4,0,0,1,Republican\\r\\n461,83914,693246,1,4,66,0,1,0,0,Independent\\r\\n462,209961,-572802,1,4,77,2,0,1,0,Republican\\r\\n463,15586,-255271,0,3,99,1,0,1,1,Democrat\\r\\n464,272563,-998908,0,4,35,2,1,0,1,Independent\\r\\n465,271901,-488649,2,1,94,3,1,1,0,Independent\\r\\n466,98731,909278,1,4,90,0,1,1,1,Republican\\r\\n467,257863,-547380,0,4,93,2,0,0,1,Republican\\r\\n468,222201,-821484,0,1,26,2,0,0,0,Republican\\r\\n469,32801,901663,0,4,93,4,0,1,1,Independent\\r\\n470,94714,-467984,0,3,89,2,0,0,0,Republican\\r\\n471,207359,-887451,1,3,29,5,1,1,1,Independent\\r\\n472,219152,441277,1,1,85,0,0,1,0,Democrat\\r\\n473,197254,-334452,1,1,27,2,1,1,1,Independent\\r\\n474,139186,-40847,1,3,66,4,1,0,1,Republican\\r\\n475,296894,-604574,0,2,61,5,1,0,0,Democrat\\r\\n476,153304,971909,0,1,99,5,1,0,0,Democrat\\r\\n477,75188,-496232,0,1,83,3,1,0,0,Republican\\r\\n478,292595,927780,0,0,89,1,1,0,0,Democrat\\r\\n479,25139,-297791,0,5,21,4,1,1,0,Democrat\\r\\n480,114155,690745,0,0,39,2,0,1,1,Democrat\\r\\n481,195649,709884,1,5,20,1,0,1,0,Democrat\\r\\n482,43735,-426554,1,5,66,5,0,0,0,Republican\\r\\n483,211959,-351212,0,2,46,0,0,1,1,Democrat\\r\\n484,290984,-666312,2,4,94,3,0,0,0,Republican\\r\\n485,104925,-379992,1,0,103,5,0,0,1,Democrat\\r\\n486,140883,736544,0,1,74,2,1,1,1,Independent\\r\\n487,8241,535966,0,5,60,3,0,0,0,Democrat\\r\\n488,205935,-533030,2,4,87,5,1,0,1,Republican\\r\\n489,3892,673976,0,5,82,4,0,1,0,Republican\\r\\n490,269792,941428,0,3,48,1,1,0,0,Republican\\r\\n491,118209,-238137,2,2,97,5,0,0,0,Independent\\r\\n492,5089,-338428,2,2,42,1,1,1,1,Independent\\r\\n493,20369,983155,1,0,101,2,1,0,0,Independent\\r\\n494,256919,-87829,0,3,58,4,0,0,0,Independent\\r\\n495,10982,-981966,0,0,35,4,0,1,1,Republican\\r\\n496,214895,-169562,1,4,21,2,1,1,1,Republican\\r\\n497,120865,967686,0,0,88,3,0,1,1,Independent\\r\\n498,13257,593032,1,3,61,4,0,0,0,Democrat\\r\\n499,299374,284321,0,2,75,4,0,0,0,Republican\\r\\n500,291288,-641325,1,2,45,5,0,0,1,Independent\\r\\n501,129786,700251,2,5,63,3,0,0,0,Republican\\r\\n502,492,-612554,2,5,21,5,0,1,1,Independent\\r\\n503,291713,619200,1,5,100,4,0,1,1,Democrat\\r\\n504,222580,111798,0,1,101,2,1,0,1,Democrat\\r\\n505,11003,-99440,2,4,69,4,0,1,1,Democrat\\r\\n506,57562,-989916,2,3,91,1,1,0,0,Independent\\r\\n507,228220,-808754,1,2,86,0,1,1,0,Independent\\r\\n508,60859,497157,2,5,70,4,0,0,0,Democrat\\r\\n509,281528,-73729,1,0,22,0,1,1,0,Republican\\r\\n510,2096,-178657,2,0,73,5,1,1,1,Independent\\r\\n511,28070,-962084,1,0,56,5,0,0,1,Democrat\\r\\n512,289167,-876657,0,4,25,0,0,0,1,Democrat\\r\\n513,185343,-940933,0,1,52,5,1,0,1,Independent\\r\\n514,261983,312913,0,2,77,1,0,1,0,Democrat\\r\\n515,12528,-437157,1,5,104,2,0,1,0,Democrat\\r\\n516,277253,254034,0,2,101,5,1,1,1,Republican\\r\\n517,134139,737843,0,0,59,4,1,1,1,Republican\\r\\n518,298543,843390,1,1,46,1,1,0,0,Republican\\r\\n519,275772,-787020,1,1,52,2,1,1,1,Independent\\r\\n520,141436,-695905,0,5,76,1,1,0,0,Democrat\\r\\n521,220644,734443,0,2,34,3,1,1,1,Republican\\r\\n522,18004,413867,0,5,74,5,0,0,1,Republican\\r\\n523,278695,566254,1,3,48,2,1,0,0,Democrat\\r\\n524,284241,33772,0,3,31,2,1,1,1,Republican\\r\\n525,27289,-11362,2,3,34,5,0,1,1,Independent\\r\\n526,113645,212183,2,4,90,3,1,0,0,Democrat\\r\\n527,100816,104685,1,5,27,1,0,0,0,Independent\\r\\n528,114510,930683,2,1,38,0,0,0,1,Republican\\r\\n529,186621,93208,0,5,76,3,0,0,1,Democrat\\r\\n530,58063,-774607,0,1,76,2,0,0,1,Independent\\r\\n531,134751,-850458,1,0,100,5,1,1,1,Independent\\r\\n532,55340,-58095,2,4,56,5,1,1,1,Democrat\\r\\n533,270108,-227548,1,5,104,1,0,1,1,Independent\\r\\n534,234708,-514354,1,0,35,3,1,1,0,Republican\\r\\n535,173559,-184908,1,4,29,0,0,0,1,Republican\\r\\n536,6143,-930231,1,1,57,1,1,1,0,Democrat\\r\\n537,86079,469858,1,5,27,1,1,0,0,Independent\\r\\n538,213754,-999994,2,2,54,1,0,0,1,Independent\\r\\n539,269221,-929940,0,4,49,3,0,0,1,Republican\\r\\n540,291862,-373448,1,4,56,4,0,1,1,Republican\\r\\n541,282589,-412372,2,0,89,2,1,0,0,Democrat\\r\\n542,134376,352116,0,2,86,1,1,0,0,Independent\\r\\n543,201077,842986,2,2,85,4,1,0,0,Independent\\r\\n544,298488,279571,0,3,90,1,1,0,0,Independent\\r\\n545,242963,-11301,0,5,18,2,0,0,0,Independent\\r\\n546,140648,-317192,1,4,64,1,0,1,0,Independent\\r\\n547,240311,-93998,2,2,35,4,0,1,1,Republican\\r\\n548,239476,810864,1,4,90,3,0,1,0,Democrat\\r\\n549,256319,-774613,2,4,69,4,0,0,1,Democrat\\r\\n550,180854,662126,1,1,100,3,0,1,0,Republican\\r\\n551,68504,666366,1,1,26,4,0,0,1,Democrat\\r\\n552,115147,743429,0,5,95,0,1,0,1,Republican\\r\\n553,137935,24108,2,4,95,2,1,1,1,Independent\\r\\n554,20442,-859712,2,2,93,1,1,0,0,Independent\\r\\n555,202440,-819171,1,0,19,1,1,1,0,Independent\\r\\n556,76902,526151,1,3,98,4,0,0,0,Democrat\\r\\n557,270310,422019,0,5,71,4,1,1,1,Democrat\\r\\n558,263892,749026,1,1,44,1,1,1,0,Democrat\\r\\n559,278575,-540345,0,1,25,1,1,1,0,Democrat\\r\\n560,246569,-862784,0,0,53,4,0,0,0,Republican\\r\\n561,123721,-51448,2,0,23,4,0,1,1,Republican\\r\\n562,74780,835382,0,4,64,5,0,1,0,Independent\\r\\n563,184126,-55256,1,3,98,3,1,1,1,Independent\\r\\n564,249537,-178017,0,0,32,0,0,1,1,Democrat\\r\\n565,156470,994119,0,4,33,3,1,0,1,Independent\\r\\n566,69197,-447303,2,4,52,5,0,1,0,Democrat\\r\\n567,186678,305753,0,5,95,0,1,0,0,Independent\\r\\n568,226350,935457,2,3,44,3,1,0,1,Republican\\r\\n569,71033,-248651,2,0,70,4,1,0,1,Independent\\r\\n570,134584,-863449,1,2,45,5,1,1,0,Democrat\\r\\n571,189185,-303334,1,1,58,0,0,0,0,Democrat\\r\\n572,109381,843959,1,1,88,1,0,0,1,Independent\\r\\n573,277105,-403252,1,0,95,5,0,0,1,Independent\\r\\n574,29929,149035,2,1,73,4,0,0,1,Republican\\r\\n575,108180,672123,2,2,71,2,1,0,1,Republican\\r\\n576,134418,810683,2,2,27,5,0,0,1,Independent\\r\\n577,203953,-703989,1,4,45,1,1,0,1,Republican\\r\\n578,156728,796614,2,0,82,2,0,0,0,Democrat\\r\\n579,233675,130512,1,2,45,1,0,1,0,Republican\\r\\n580,41813,986290,0,1,41,5,1,1,0,Democrat\\r\\n581,223007,-46463,1,5,38,5,0,0,0,Republican\\r\\n582,160887,-703691,2,4,57,0,0,1,1,Independent\\r\\n583,46156,-328191,2,2,47,0,0,0,0,Independent\\r\\n584,49698,-994488,0,0,94,2,0,0,1,Democrat\\r\\n585,14307,-780239,2,4,46,4,0,1,0,Democrat\\r\\n586,138248,-783862,1,2,50,1,0,1,0,Republican\\r\\n587,64392,260473,1,5,87,3,0,0,0,Republican\\r\\n588,7994,-967282,1,4,73,5,0,1,1,Republican\\r\\n589,221642,-430778,2,3,25,4,0,0,1,Independent\\r\\n590,47107,322850,0,1,30,2,1,1,0,Independent\\r\\n591,253564,-181070,2,1,37,1,1,0,0,Republican\\r\\n592,48990,770800,2,1,33,2,0,1,0,Democrat\\r\\n593,140256,-992627,1,5,102,2,1,0,0,Independent\\r\\n594,137953,-795552,2,2,72,2,1,1,0,Independent\\r\\n595,160546,445177,0,3,60,1,0,0,0,Independent\\r\\n596,51066,-900262,1,1,67,4,0,0,0,Democrat\\r\\n597,146355,155871,1,1,49,5,1,1,0,Independent\\r\\n598,229447,876304,0,5,56,1,0,0,1,Independent\\r\\n599,162823,133189,2,2,63,0,1,1,0,Independent\\r\\n600,192544,727759,0,2,30,0,1,0,0,Republican\\r\\n601,86911,475881,2,0,78,2,1,1,1,Republican\\r\\n602,31242,-792091,1,5,24,4,1,1,0,Republican\\r\\n603,75313,436933,1,3,61,3,0,0,1,Republican\\r\\n604,43684,62893,0,3,23,0,1,0,0,Republican\\r\\n605,225896,-675975,0,3,55,0,0,1,0,Independent\\r\\n606,96540,938807,2,0,104,4,0,0,1,Independent\\r\\n607,228731,552982,2,0,86,1,0,0,0,Republican\\r\\n608,151040,-978353,2,2,61,3,0,1,0,Independent\\r\\n609,131213,220194,1,5,49,4,1,0,1,Republican\\r\\n610,186597,-597002,0,5,36,0,1,0,1,Independent\\r\\n611,185427,-314225,0,2,70,4,0,1,0,Republican\\r\\n612,4976,485327,2,5,57,3,0,0,0,Democrat\\r\\n613,51996,-483468,0,0,77,4,0,1,0,Democrat\\r\\n614,142655,838580,1,5,89,2,0,1,0,Independent\\r\\n615,281423,-328037,1,4,88,2,0,1,0,Republican\\r\\n616,5188,92694,0,2,54,3,1,1,1,Independent\\r\\n617,291564,-36831,2,2,32,1,1,1,0,Democrat\\r\\n618,144029,-332420,0,3,90,2,0,1,0,Democrat\\r\\n619,113584,376138,2,3,22,2,0,1,0,Democrat\\r\\n620,69973,-511559,0,5,82,3,0,1,0,Democrat\\r\\n621,260689,713822,1,5,64,0,0,1,1,Independent\\r\\n622,142108,-365041,2,5,105,4,1,1,0,Independent\\r\\n623,59505,150818,2,1,18,2,1,1,1,Republican\\r\\n624,44860,-679922,1,2,32,3,0,1,0,Democrat\\r\\n625,86882,-891622,0,4,24,1,1,1,1,Independent\\r\\n626,97983,83492,0,0,23,3,0,0,0,Independent\\r\\n627,282837,526138,1,5,29,2,0,1,0,Republican\\r\\n628,71118,-391127,0,2,73,0,0,1,1,Republican\\r\\n629,293636,-489629,1,2,94,5,1,0,1,Independent\\r\\n630,145838,818945,1,1,89,2,0,0,1,Independent\\r\\n631,139039,-441265,0,1,105,0,0,0,1,Democrat\\r\\n632,203384,-337039,0,5,62,2,0,1,0,Independent\\r\\n633,11960,-537827,1,4,91,0,0,0,1,Republican\\r\\n634,103282,-424248,1,4,65,5,1,1,0,Republican\\r\\n635,189020,839546,2,4,56,1,0,0,0,Republican\\r\\n636,83734,-146969,1,5,66,0,0,1,1,Democrat\\r\\n637,33060,452515,2,5,65,0,0,0,0,Democrat\\r\\n638,59950,-583169,1,2,78,3,1,0,1,Independent\\r\\n639,224481,254064,1,2,47,2,1,0,0,Republican\\r\\n640,85083,-31309,1,3,75,0,1,0,1,Independent\\r\\n641,248173,-988398,2,4,34,1,0,0,0,Independent\\r\\n642,16419,-63705,1,3,50,2,0,1,0,Democrat\\r\\n643,48197,-476428,2,5,68,5,0,1,1,Democrat\\r\\n644,251268,852211,1,4,78,5,0,1,1,Independent\\r\\n645,108350,287881,1,0,81,1,0,0,0,Independent\\r\\n646,111628,-242885,2,5,36,0,1,1,1,Independent\\r\\n647,287556,-153101,1,5,59,4,0,1,0,Republican\\r\\n648,50370,-999587,1,5,72,3,1,0,1,Independent\\r\\n649,231106,-127805,1,4,57,1,1,1,0,Democrat\\r\\n650,171801,142926,2,2,59,2,1,1,1,Democrat\\r\\n651,77811,-840973,2,3,65,2,0,0,1,Democrat\\r\\n652,165052,248818,0,2,46,5,0,0,0,Independent\\r\\n653,176994,35981,0,5,98,3,1,1,0,Republican\\r\\n654,37445,-570376,2,3,78,4,0,0,0,Independent\\r\\n655,250858,-766014,1,3,104,4,0,1,1,Independent\\r\\n656,237903,-734891,2,5,97,5,0,0,1,Independent\\r\\n657,136652,-184616,1,2,31,3,1,0,0,Democrat\\r\\n658,268343,493411,2,4,44,1,1,0,1,Independent\\r\\n659,169714,-371190,2,4,77,5,0,0,0,Independent\\r\\n660,110563,580213,2,2,54,2,1,0,0,Republican\\r\\n661,263805,-784298,2,3,63,3,1,0,1,Democrat\\r\\n662,70981,762636,1,4,75,2,1,1,0,Republican\\r\\n663,115427,-162851,2,2,21,0,1,1,0,Republican\\r\\n664,251667,-25426,2,5,47,4,0,1,0,Republican\\r\\n665,265378,144089,1,2,98,2,1,1,1,Independent\\r\\n666,227152,343230,0,1,53,4,0,1,1,Independent\\r\\n667,144297,-732844,1,1,37,5,1,0,1,Independent\\r\\n668,176672,-609020,0,2,20,1,1,0,0,Republican\\r\\n669,247384,200652,1,0,47,1,1,0,1,Independent\\r\\n670,11661,828274,0,0,35,4,0,0,1,Democrat\\r\\n671,256947,613744,0,3,76,1,1,1,0,Independent\\r\\n672,175361,254759,0,4,28,4,1,1,0,Republican\\r\\n673,19889,-431781,1,3,33,5,0,1,1,Republican\\r\\n674,289371,504384,0,4,71,0,1,0,0,Independent\\r\\n675,225927,956752,0,3,48,5,1,0,1,Republican\\r\\n676,222693,424766,0,1,92,4,1,0,0,Republican\\r\\n677,116639,719850,2,5,30,2,0,1,0,Democrat\\r\\n678,114810,-875158,0,1,101,5,1,1,0,Independent\\r\\n679,262610,148566,1,5,74,2,1,0,1,Independent\\r\\n680,107894,306691,2,3,80,4,1,0,1,Democrat\\r\\n681,271528,-440280,1,4,56,4,0,0,0,Democrat\\r\\n682,247250,826820,0,2,42,2,0,1,1,Independent\\r\\n683,98352,226621,0,1,94,0,0,1,1,Independent\\r\\n684,257803,-707982,0,2,82,2,1,1,0,Republican\\r\\n685,265782,429009,0,5,46,3,0,1,1,Independent\\r\\n686,43948,907826,0,4,81,2,1,0,1,Independent\\r\\n687,6126,355401,2,3,59,2,1,1,0,Republican\\r\\n688,139689,-256118,1,4,77,3,1,0,0,Independent\\r\\n689,179365,-13138,1,3,61,2,1,0,1,Republican\\r\\n690,272169,-323967,2,1,27,5,0,1,0,Independent\\r\\n691,224532,566087,1,4,35,3,1,1,0,Democrat\\r\\n692,129846,736629,0,4,101,4,0,0,0,Independent\\r\\n693,24124,-491545,0,0,18,2,1,0,1,Independent\\r\\n694,152559,-933145,0,4,99,2,1,1,1,Republican\\r\\n695,152977,71272,2,2,40,3,1,1,0,Democrat\\r\\n696,125884,50624,2,3,71,5,1,1,0,Republican\\r\\n697,68328,719424,2,4,55,2,0,1,0,Republican\\r\\n698,130088,720369,0,4,98,4,0,1,1,Independent\\r\\n699,139022,-959783,2,3,44,5,1,1,1,Republican\\r\\n700,225215,-747959,1,0,103,3,1,0,1,Republican\\r\\n701,191197,-539528,1,4,94,0,0,1,0,Independent\\r\\n702,90108,907135,1,3,57,5,1,1,0,Democrat\\r\\n703,290506,-433408,1,1,28,5,1,0,1,Republican\\r\\n704,299700,109868,0,3,25,2,0,1,1,Independent\\r\\n705,73250,-810927,0,5,40,1,1,0,1,Independent\\r\\n706,76875,-975235,1,5,68,3,1,1,0,Democrat\\r\\n707,2378,-438720,1,0,104,1,1,0,0,Democrat\\r\\n708,15900,-135208,0,1,56,1,1,0,1,Republican\\r\\n709,277179,446234,1,4,42,3,0,1,0,Democrat\\r\\n710,51571,-616477,0,4,101,1,1,1,0,Democrat\\r\\n711,102571,-803654,2,4,30,3,1,0,0,Independent\\r\\n712,209409,628596,0,2,22,5,0,0,1,Independent\\r\\n713,35872,-312898,2,2,84,5,0,0,0,Democrat\\r\\n714,73739,-84306,0,0,54,0,1,0,1,Independent\\r\\n715,190815,-889933,1,5,64,5,0,0,1,Independent\\r\\n716,145777,-544339,2,5,60,2,0,1,1,Independent\\r\\n717,38076,-586838,2,2,32,0,1,1,0,Democrat\\r\\n718,153647,-239802,2,4,64,4,0,0,0,Republican\\r\\n719,80272,793596,0,0,94,2,0,0,1,Independent\\r\\n720,24153,-907624,0,4,46,4,1,1,1,Independent\\r\\n721,148943,948107,2,2,22,4,0,0,0,Republican\\r\\n722,52592,-282775,0,2,83,3,0,1,1,Republican\\r\\n723,121315,-754598,1,0,86,4,0,1,1,Republican\\r\\n724,258581,-165065,1,0,96,2,1,0,0,Republican\\r\\n725,9871,-670619,2,4,103,3,0,1,0,Democrat\\r\\n726,218507,-418498,2,5,31,5,1,1,1,Independent\\r\\n727,222876,481215,2,2,40,5,1,1,1,Republican\\r\\n728,200219,514981,1,0,44,2,0,1,1,Democrat\\r\\n729,272761,72584,1,4,37,2,0,0,0,Republican\\r\\n730,278475,937543,0,5,44,0,0,1,0,Republican\\r\\n731,113051,992153,1,4,26,4,0,1,0,Democrat\\r\\n732,4164,-643334,1,1,98,4,1,1,0,Republican\\r\\n733,125407,-802588,1,5,92,0,0,1,0,Republican\\r\\n734,285512,467218,2,0,25,2,1,0,1,Republican\\r\\n735,274344,138757,0,2,102,2,0,1,0,Democrat\\r\\n736,18465,280156,1,3,39,4,1,0,1,Democrat\\r\\n737,60330,502155,1,0,29,5,0,0,0,Democrat\\r\\n738,80730,-100708,1,3,43,5,0,1,1,Democrat\\r\\n739,222840,-17043,0,0,70,0,1,1,0,Independent\\r\\n740,65039,487393,2,5,66,0,1,1,0,Republican\\r\\n741,148941,-121142,0,4,42,4,0,0,0,Independent\\r\\n742,140568,270763,1,2,95,2,1,1,0,Republican\\r\\n743,73843,-696554,1,2,94,3,0,0,1,Republican\\r\\n744,1526,-853886,0,5,83,1,1,1,1,Democrat\\r\\n745,115679,-462663,1,4,56,2,1,0,1,Democrat\\r\\n746,191696,-279084,0,4,48,4,0,0,0,Independent\\r\\n747,99318,111223,2,5,76,1,1,0,1,Democrat\\r\\n748,298242,926098,0,4,46,1,1,1,0,Independent\\r\\n749,200098,-705482,1,5,93,5,1,0,1,Republican\\r\\n750,249691,-530015,2,0,78,5,1,1,1,Democrat\\r\\n751,225831,475320,2,5,62,3,1,1,1,Republican\\r\\n752,77766,544180,1,1,48,3,1,1,1,Democrat\\r\\n753,109323,968922,1,1,49,0,1,0,0,Democrat\\r\\n754,292146,-865043,2,0,61,1,1,0,0,Democrat\\r\\n755,205806,-396357,2,5,87,2,1,1,0,Republican\\r\\n756,140055,-390014,0,1,70,5,0,0,1,Independent\\r\\n757,253796,-100794,1,3,68,1,1,1,1,Republican\\r\\n758,290214,-839598,1,5,19,0,0,0,1,Independent\\r\\n759,118744,-207243,1,4,45,1,1,1,0,Republican\\r\\n760,222779,338355,2,1,65,3,1,1,1,Independent\\r\\n761,261993,-477670,1,2,33,0,1,0,1,Republican\\r\\n762,226680,329184,1,1,48,0,1,0,1,Democrat\\r\\n763,185,223894,2,0,51,4,0,1,0,Republican\\r\\n764,59923,737280,0,2,65,5,0,1,0,Republican\\r\\n765,85592,778377,0,2,83,1,1,1,1,Democrat\\r\\n766,55309,-288218,1,3,77,4,1,0,1,Independent\\r\\n767,158807,872846,2,3,86,5,0,1,1,Independent\\r\\n768,167655,848691,1,4,99,1,0,0,0,Democrat\\r\\n769,220185,273721,0,3,63,1,0,1,1,Democrat\\r\\n770,129978,-67514,0,1,99,2,0,0,1,Democrat\\r\\n771,168147,26022,2,0,63,0,0,0,0,Independent\\r\\n772,254369,-619686,2,1,33,3,0,0,0,Independent\\r\\n773,276138,868661,0,2,37,3,1,1,1,Independent\\r\\n774,294460,-774591,0,3,66,3,0,1,0,Independent\\r\\n775,209044,36254,0,2,35,3,1,1,0,Independent\\r\\n776,68362,-602283,0,4,26,1,1,1,1,Independent\\r\\n777,249364,21079,2,2,54,2,0,1,1,Republican\\r\\n778,216098,969316,2,4,59,2,1,1,0,Republican\\r\\n779,115456,769198,0,0,66,5,0,0,1,Democrat\\r\\n780,189568,171679,0,5,63,5,0,1,0,Democrat\\r\\n781,24157,878839,1,4,24,2,1,0,1,Democrat\\r\\n782,253270,657514,1,5,65,5,0,1,1,Republican\\r\\n783,238816,-888805,0,3,32,4,1,1,1,Independent\\r\\n784,296161,557947,0,5,94,1,0,1,1,Democrat\\r\\n785,112866,-699364,1,2,53,5,0,1,0,Democrat\\r\\n786,69973,-304172,1,1,83,0,1,0,1,Republican\\r\\n787,23397,701488,1,3,20,4,1,1,1,Democrat\\r\\n788,197069,-114803,1,4,48,4,0,1,1,Independent\\r\\n789,70091,840345,2,2,51,3,1,0,0,Republican\\r\\n790,197484,732876,2,3,36,0,0,1,1,Independent\\r\\n791,97363,-247700,0,5,71,5,0,1,1,Independent\\r\\n792,6774,-608638,2,3,73,3,1,0,1,Independent\\r\\n793,19462,673895,1,1,79,5,1,0,0,Democrat\\r\\n794,93720,239484,2,4,86,0,1,1,0,Republican\\r\\n795,254516,-303510,2,2,64,0,0,0,0,Republican\\r\\n796,115748,76553,2,3,41,4,0,0,1,Democrat\\r\\n797,75698,-100753,2,3,39,1,0,0,1,Republican\\r\\n798,60433,123245,2,3,34,1,0,1,1,Democrat\\r\\n799,132975,497546,0,4,24,0,1,0,1,Republican\\r\\n800,12611,480062,2,3,27,3,0,1,0,Democrat\\r\\n801,174917,789310,0,0,49,1,1,1,1,Independent\\r\\n802,63818,976483,2,3,100,4,0,0,1,Democrat\\r\\n803,122423,48662,1,4,97,3,1,0,1,Independent\\r\\n804,254504,252512,0,3,19,2,1,1,1,Independent\\r\\n805,15260,766555,0,5,18,0,1,0,0,Republican\\r\\n806,48192,867963,1,2,43,1,1,1,1,Democrat\\r\\n807,144275,734473,1,4,57,3,1,1,0,Democrat\\r\\n808,51866,95306,0,0,33,1,1,0,1,Democrat\\r\\n809,20323,-535885,1,5,102,2,0,0,1,Independent\\r\\n810,236705,-889551,0,5,33,4,1,1,1,Republican\\r\\n811,84735,739704,2,0,42,3,1,0,0,Democrat\\r\\n812,100670,924783,1,1,69,0,0,0,1,Independent\\r\\n813,254708,-976114,0,4,58,0,1,0,1,Democrat\\r\\n814,185187,-754888,0,4,30,0,1,0,1,Republican\\r\\n815,172809,238412,0,2,82,0,1,1,0,Independent\\r\\n816,259231,508105,1,3,97,4,1,1,1,Republican\\r\\n817,65752,269951,0,1,54,5,0,0,1,Independent\\r\\n818,71315,745806,2,0,53,3,1,1,1,Independent\\r\\n819,15300,389416,2,2,74,3,1,0,1,Republican\\r\\n820,173815,-369618,0,3,27,3,0,0,1,Republican\\r\\n821,234440,331559,2,3,92,1,0,1,1,Democrat\\r\\n822,15803,-926204,0,5,45,1,0,1,1,Democrat\\r\\n823,74438,-537239,1,1,86,0,0,0,0,Independent\\r\\n824,40767,-37492,2,5,82,3,0,0,1,Republican\\r\\n825,116461,-862151,1,5,77,4,0,1,0,Democrat\\r\\n826,85596,718638,2,1,76,3,0,1,0,Democrat\\r\\n827,116938,346986,1,3,19,0,1,0,0,Democrat\\r\\n828,206870,-453556,2,0,83,5,1,0,0,Republican\\r\\n829,55143,454260,1,4,47,0,0,0,1,Democrat\\r\\n830,211227,-584915,2,0,53,3,1,1,1,Independent\\r\\n831,126412,571369,0,0,51,5,0,1,1,Democrat\\r\\n832,140545,38216,1,5,64,4,1,0,1,Republican\\r\\n833,67176,728598,1,2,37,2,1,1,0,Republican\\r\\n834,297120,592064,2,5,43,0,1,1,1,Democrat\\r\\n835,63607,-243936,2,4,92,1,0,0,1,Republican\\r\\n836,239616,-20152,1,4,90,5,1,0,0,Republican\\r\\n837,180116,-441395,1,0,80,5,1,0,1,Republican\\r\\n838,260749,300189,1,1,44,2,1,0,0,Independent\\r\\n839,195879,736444,1,4,55,0,0,1,0,Independent\\r\\n840,150620,-5404,1,1,52,3,1,0,1,Republican\\r\\n841,239819,-528380,1,4,72,3,0,1,1,Democrat\\r\\n842,161275,977896,2,3,44,1,0,0,0,Republican\\r\\n843,291895,949401,2,5,63,5,1,1,1,Independent\\r\\n844,109316,-447683,1,4,32,1,1,0,0,Independent\\r\\n845,286407,-690382,1,1,41,0,0,1,1,Democrat\\r\\n846,172187,-909411,0,5,62,1,1,1,1,Democrat\\r\\n847,146183,388613,1,5,78,2,0,1,0,Republican\\r\\n848,225687,-758234,1,1,75,4,0,1,1,Republican\\r\\n849,88748,617030,1,3,73,3,0,1,0,Democrat\\r\\n850,164823,-235736,0,3,70,1,0,0,1,Democrat\\r\\n851,136607,-367388,0,4,32,0,0,0,1,Republican\\r\\n852,107651,716231,1,5,81,4,1,0,1,Republican\\r\\n853,284639,686601,1,5,57,4,1,0,1,Republican\\r\\n854,88877,-718231,0,2,26,5,1,1,0,Independent\\r\\n855,180565,-946820,2,3,31,0,1,1,0,Democrat\\r\\n856,229221,-600998,2,4,59,5,0,1,1,Democrat\\r\\n857,54211,-191839,1,0,56,2,0,1,0,Independent\\r\\n858,108175,-906592,2,1,97,1,0,0,0,Republican\\r\\n859,114673,80553,0,1,101,0,0,1,0,Independent\\r\\n860,142073,111868,0,4,78,1,1,0,0,Independent\\r\\n861,27895,807147,0,5,43,3,1,0,1,Democrat\\r\\n862,336,-215610,1,5,32,1,1,0,0,Independent\\r\\n863,227972,181369,1,5,75,2,1,0,1,Democrat\\r\\n864,208065,348136,0,0,33,3,0,0,1,Independent\\r\\n865,201100,468713,0,5,91,0,1,0,0,Republican\\r\\n866,238943,544700,0,1,67,1,0,1,0,Independent\\r\\n867,196468,999628,0,4,100,4,1,0,1,Democrat\\r\\n868,160252,161547,2,5,29,3,1,0,1,Democrat\\r\\n869,171956,197562,1,2,105,2,1,0,0,Republican\\r\\n870,175755,57032,1,1,25,2,1,0,1,Democrat\\r\\n871,126172,134413,2,2,38,0,1,0,1,Independent\\r\\n872,196947,-938829,0,2,24,3,1,0,0,Independent\\r\\n873,190540,-228681,1,2,105,2,0,0,1,Democrat\\r\\n874,66794,141944,0,1,79,0,0,1,0,Independent\\r\\n875,45935,-178677,1,2,96,3,1,1,1,Democrat\\r\\n876,291079,-631738,2,3,61,5,1,1,0,Democrat\\r\\n877,143400,-221100,1,5,18,0,1,0,1,Democrat\\r\\n878,214035,439173,1,1,100,3,0,1,0,Democrat\\r\\n879,109537,117965,1,0,52,5,1,1,1,Independent\\r\\n880,32588,672512,0,4,74,4,1,0,0,Independent\\r\\n881,166821,151913,1,4,51,2,0,1,1,Democrat\\r\\n882,188254,690811,1,3,25,5,0,0,0,Independent\\r\\n883,225852,-953365,2,1,36,3,0,1,0,Republican\\r\\n884,104611,-942320,0,2,60,1,0,0,0,Republican\\r\\n885,183528,228586,2,2,85,0,0,1,0,Independent\\r\\n886,226953,-388796,0,2,58,3,1,1,1,Republican\\r\\n887,212749,-959949,1,2,86,5,0,0,0,Republican\\r\\n888,11038,918829,0,3,66,2,1,1,1,Democrat\\r\\n889,181193,693718,2,0,75,2,0,0,0,Republican\\r\\n890,120769,395066,0,1,63,4,1,0,1,Democrat\\r\\n891,35785,845730,2,0,75,1,0,1,0,Democrat\\r\\n892,46687,452393,0,0,103,5,1,0,1,Republican\\r\\n893,13353,-794970,2,4,102,5,1,1,1,Democrat\\r\\n894,285369,609921,2,1,52,1,0,0,0,Democrat\\r\\n895,87570,973754,0,1,92,5,0,1,1,Republican\\r\\n896,92743,-404583,2,1,71,3,0,1,0,Independent\\r\\n897,279447,122017,2,0,76,1,1,1,0,Republican\\r\\n898,155207,542691,1,0,89,2,1,1,1,Republican\\r\\n899,115903,-460897,0,2,80,1,0,1,0,Republican\\r\\n900,273740,-185691,1,2,64,5,1,1,1,Republican\\r\\n901,225785,640499,2,3,102,0,0,1,1,Democrat\\r\\n902,38087,779252,2,4,37,4,1,0,0,Democrat\\r\\n903,226307,-281859,0,4,59,3,1,0,1,Democrat\\r\\n904,100424,-187734,2,0,54,5,0,0,1,Independent\\r\\n905,233839,-517668,1,0,90,3,0,1,1,Republican\\r\\n906,146175,712330,0,4,23,4,0,1,1,Independent\\r\\n907,159594,46966,0,0,93,5,0,0,0,Democrat\\r\\n908,136064,-312488,2,5,68,4,1,1,0,Independent\\r\\n909,168041,-32051,1,2,39,4,1,1,1,Republican\\r\\n910,1621,207351,2,2,104,0,0,1,1,Republican\\r\\n911,233552,603629,2,0,45,4,1,1,0,Independent\\r\\n912,20071,-49344,2,1,71,2,0,0,1,Democrat\\r\\n913,23175,-406831,2,4,35,1,0,1,1,Democrat\\r\\n914,249009,-45936,0,5,37,2,1,0,0,Democrat\\r\\n915,151963,77843,1,1,31,2,1,0,0,Republican\\r\\n916,52227,-268677,2,0,23,0,1,1,1,Independent\\r\\n917,15555,-83022,1,4,91,1,0,1,1,Democrat\\r\\n918,51873,478968,2,3,55,3,0,0,0,Democrat\\r\\n919,241381,-906757,1,4,74,3,0,1,0,Democrat\\r\\n920,64542,701108,1,3,79,4,0,1,1,Democrat\\r\\n921,282783,361164,2,2,59,5,1,1,1,Republican\\r\\n922,130116,-964826,1,0,96,3,0,0,1,Republican\\r\\n923,115898,691381,2,5,84,0,0,1,1,Democrat\\r\\n924,146302,494412,0,3,65,0,1,0,0,Independent\\r\\n925,16479,-603245,1,2,20,0,0,0,0,Republican\\r\\n926,115681,160308,1,2,36,0,0,0,1,Democrat\\r\\n927,257867,428139,0,3,55,2,1,0,0,Independent\\r\\n928,136393,647952,2,2,87,2,1,1,1,Independent\\r\\n929,70820,260337,0,3,78,3,1,0,1,Democrat\\r\\n930,160190,-957193,2,5,56,1,1,0,1,Democrat\\r\\n931,15779,-579347,0,0,35,3,1,1,0,Democrat\\r\\n932,13189,170160,0,4,97,0,1,1,1,Republican\\r\\n933,81847,560563,0,0,36,2,1,0,1,Democrat\\r\\n934,184169,725895,2,3,67,3,0,1,0,Independent\\r\\n935,241639,639982,1,4,65,0,1,1,1,Republican\\r\\n936,171667,-719106,1,3,24,2,0,0,1,Republican\\r\\n937,212912,-614106,2,4,67,3,1,1,0,Democrat\\r\\n938,160455,738328,1,5,24,4,1,1,1,Independent\\r\\n939,194908,479005,1,2,91,1,1,1,1,Republican\\r\\n940,46795,-332610,0,3,93,1,1,0,0,Independent\\r\\n941,244274,563344,1,2,33,4,1,0,1,Independent\\r\\n942,266324,406428,0,5,53,2,1,1,0,Republican\\r\\n943,29412,-128270,1,2,63,1,1,1,0,Republican\\r\\n944,89805,727227,2,2,35,5,0,0,0,Independent\\r\\n945,32013,841751,1,2,100,2,1,0,1,Independent\\r\\n946,291236,-870321,2,5,45,4,1,1,1,Democrat\\r\\n947,138933,670134,0,3,50,0,0,1,0,Republican\\r\\n948,26899,-427055,0,5,72,5,1,0,1,Republican\\r\\n949,103224,263588,2,4,56,1,0,1,1,Independent\\r\\n950,160724,-576091,0,2,46,1,1,0,1,Democrat\\r\\n951,267203,888670,1,2,48,1,1,1,0,Independent\\r\\n952,199037,245711,0,5,45,2,0,0,0,Independent\\r\\n953,154048,806202,1,1,90,2,0,1,1,Independent\\r\\n954,134590,-940780,1,4,59,5,1,0,0,Independent\\r\\n955,147754,783852,0,4,50,5,1,0,0,Republican\\r\\n956,262300,-215168,1,4,95,4,0,1,0,Democrat\\r\\n957,58588,747309,1,5,49,4,0,0,1,Republican\\r\\n958,33396,722543,2,0,51,4,0,1,1,Democrat\\r\\n959,191489,-305527,0,2,67,3,1,1,0,Democrat\\r\\n960,96670,107419,0,3,77,5,0,0,0,Republican\\r\\n961,245006,-565223,1,2,45,0,0,0,0,Democrat\\r\\n962,285102,66090,1,5,45,3,1,0,0,Democrat\\r\\n963,174181,-104268,0,2,43,3,1,1,1,Independent\\r\\n964,130640,-566171,2,2,102,1,1,0,0,Democrat\\r\\n965,110004,-642659,0,3,74,4,0,1,1,Independent\\r\\n966,274999,857646,0,0,32,5,1,0,0,Democrat\\r\\n967,191585,-278548,0,4,90,4,1,0,1,Democrat\\r\\n968,257983,766290,0,3,54,3,1,0,0,Democrat\\r\\n969,224574,-457298,1,4,79,4,1,1,0,Republican\\r\\n970,282092,765796,0,4,43,2,1,1,1,Republican\\r\\n971,74529,589489,2,4,102,0,1,0,1,Democrat\\r\\n972,132052,-338920,0,2,77,4,1,0,0,Independent\\r\\n973,108775,260871,0,4,48,0,1,1,0,Democrat\\r\\n974,168373,-721503,0,3,42,4,0,1,1,Democrat\\r\\n975,64078,-541158,0,0,43,2,0,1,0,Independent\\r\\n976,59951,-954443,0,1,45,4,1,0,0,Republican\\r\\n977,116422,941659,2,4,41,2,1,0,1,Republican\\r\\n978,150370,-883250,1,4,82,1,0,0,0,Independent\\r\\n979,232858,-883049,2,1,91,3,1,1,1,Republican\\r\\n980,35832,227876,2,2,38,0,1,0,1,Republican\\r\\n981,189244,510994,2,2,70,1,0,1,1,Independent\\r\\n982,151148,50314,1,1,95,5,0,1,0,Republican\\r\\n983,111819,53605,1,4,79,1,1,1,1,Republican\\r\\n984,12746,798632,0,5,98,5,0,0,1,Republican\\r\\n985,182028,-68738,0,3,24,2,0,1,0,Democrat\\r\\n986,100546,-901322,1,1,33,1,1,1,1,Democrat\\r\\n987,223363,-538255,0,3,62,4,0,1,0,Democrat\\r\\n988,234515,-911250,2,4,77,0,1,1,0,Republican\\r\\n989,147560,981980,2,1,61,5,0,1,0,Democrat\\r\\n990,125609,829017,2,5,27,2,1,0,0,Independent\\r\\n991,190018,897005,0,3,45,3,1,0,1,Independent\\r\\n992,236858,178308,2,0,56,2,0,0,1,Democrat\\r\\n993,235780,180629,1,3,60,3,1,0,1,Independent\\r\\n994,261821,-839419,1,2,55,5,1,0,0,Republican\\r\\n995,47174,-340794,2,5,29,0,0,0,0,Independent\\r\\n996,275991,274256,1,0,81,1,1,0,0,Democrat\\r\\n997,284069,-914953,1,4,74,5,0,1,0,Republican\\r\\n998,183462,-169065,1,2,71,1,0,0,0,Democrat\\r\\n999,100636,750208,2,3,71,4,0,1,0,Independent\\r\\n1000,37626,20830,0,1,38,4,0,1,0,Democrat\\r\\n1001,79765,63483,2,1,71,5,0,1,0,Republican\\r\\n1002,111219,-573449,0,4,35,2,0,0,0,Republican\\r\\n1003,105591,-611207,0,1,59,1,1,1,0,Republican\\r\\n1004,201463,310275,1,3,58,5,1,0,1,Republican\\r\\n'}"
            ]
          },
          "metadata": {},
          "execution_count": 5
        }
      ]
    },
    {
      "cell_type": "code",
      "source": [
        "tax=pd.read_csv('Tax.csv')"
      ],
      "metadata": {
        "id": "9KckOBhu9T2D"
      },
      "execution_count": null,
      "outputs": []
    },
    {
      "cell_type": "code",
      "source": [
        "tax"
      ],
      "metadata": {
        "colab": {
          "base_uri": "https://localhost:8080/",
          "height": 423
        },
        "id": "uTdat2E59T4r",
        "outputId": "3e228dc8-96e4-4623-c8e7-10a8b3cc42d5"
      },
      "execution_count": null,
      "outputs": [
        {
          "output_type": "execute_result",
          "data": {
            "text/plain": [
              "      Unnamed: 0     HHI    HHDL  Married  CollegGrads  AHHAge  Cars  \\\n",
              "0              1   49685  227187        0            0     105     0   \n",
              "1              2   64756 -507342        2            3      68     3   \n",
              "2              3  115435  521290        1            3      81     2   \n",
              "3              4   99454  251829        2            1      52     4   \n",
              "4              5  157274 -472337        0            1      28     1   \n",
              "...          ...     ...     ...      ...          ...     ...   ...   \n",
              "999         1000   37626   20830        0            1      38     4   \n",
              "1000        1001   79765   63483        2            1      71     5   \n",
              "1001        1002  111219 -573449        0            4      35     2   \n",
              "1002        1003  105591 -611207        0            1      59     1   \n",
              "1003        1004  201463  310275        1            3      58     5   \n",
              "\n",
              "      Filed in 2017  Filed in 2016  Filed in 2015 PoliticalParty  \n",
              "0                 1              1              1       Democrat  \n",
              "1                 1              0              0    Independent  \n",
              "2                 0              1              0     Republican  \n",
              "3                 1              0              0     Republican  \n",
              "4                 1              0              1    Independent  \n",
              "...             ...            ...            ...            ...  \n",
              "999               0              1              0       Democrat  \n",
              "1000              0              1              0     Republican  \n",
              "1001              0              0              0     Republican  \n",
              "1002              1              1              0     Republican  \n",
              "1003              1              0              1     Republican  \n",
              "\n",
              "[1004 rows x 11 columns]"
            ],
            "text/html": [
              "\n",
              "  <div id=\"df-c06fc289-8a7d-4d0a-8769-c7508e44701d\">\n",
              "    <div class=\"colab-df-container\">\n",
              "      <div>\n",
              "<style scoped>\n",
              "    .dataframe tbody tr th:only-of-type {\n",
              "        vertical-align: middle;\n",
              "    }\n",
              "\n",
              "    .dataframe tbody tr th {\n",
              "        vertical-align: top;\n",
              "    }\n",
              "\n",
              "    .dataframe thead th {\n",
              "        text-align: right;\n",
              "    }\n",
              "</style>\n",
              "<table border=\"1\" class=\"dataframe\">\n",
              "  <thead>\n",
              "    <tr style=\"text-align: right;\">\n",
              "      <th></th>\n",
              "      <th>Unnamed: 0</th>\n",
              "      <th>HHI</th>\n",
              "      <th>HHDL</th>\n",
              "      <th>Married</th>\n",
              "      <th>CollegGrads</th>\n",
              "      <th>AHHAge</th>\n",
              "      <th>Cars</th>\n",
              "      <th>Filed in 2017</th>\n",
              "      <th>Filed in 2016</th>\n",
              "      <th>Filed in 2015</th>\n",
              "      <th>PoliticalParty</th>\n",
              "    </tr>\n",
              "  </thead>\n",
              "  <tbody>\n",
              "    <tr>\n",
              "      <th>0</th>\n",
              "      <td>1</td>\n",
              "      <td>49685</td>\n",
              "      <td>227187</td>\n",
              "      <td>0</td>\n",
              "      <td>0</td>\n",
              "      <td>105</td>\n",
              "      <td>0</td>\n",
              "      <td>1</td>\n",
              "      <td>1</td>\n",
              "      <td>1</td>\n",
              "      <td>Democrat</td>\n",
              "    </tr>\n",
              "    <tr>\n",
              "      <th>1</th>\n",
              "      <td>2</td>\n",
              "      <td>64756</td>\n",
              "      <td>-507342</td>\n",
              "      <td>2</td>\n",
              "      <td>3</td>\n",
              "      <td>68</td>\n",
              "      <td>3</td>\n",
              "      <td>1</td>\n",
              "      <td>0</td>\n",
              "      <td>0</td>\n",
              "      <td>Independent</td>\n",
              "    </tr>\n",
              "    <tr>\n",
              "      <th>2</th>\n",
              "      <td>3</td>\n",
              "      <td>115435</td>\n",
              "      <td>521290</td>\n",
              "      <td>1</td>\n",
              "      <td>3</td>\n",
              "      <td>81</td>\n",
              "      <td>2</td>\n",
              "      <td>0</td>\n",
              "      <td>1</td>\n",
              "      <td>0</td>\n",
              "      <td>Republican</td>\n",
              "    </tr>\n",
              "    <tr>\n",
              "      <th>3</th>\n",
              "      <td>4</td>\n",
              "      <td>99454</td>\n",
              "      <td>251829</td>\n",
              "      <td>2</td>\n",
              "      <td>1</td>\n",
              "      <td>52</td>\n",
              "      <td>4</td>\n",
              "      <td>1</td>\n",
              "      <td>0</td>\n",
              "      <td>0</td>\n",
              "      <td>Republican</td>\n",
              "    </tr>\n",
              "    <tr>\n",
              "      <th>4</th>\n",
              "      <td>5</td>\n",
              "      <td>157274</td>\n",
              "      <td>-472337</td>\n",
              "      <td>0</td>\n",
              "      <td>1</td>\n",
              "      <td>28</td>\n",
              "      <td>1</td>\n",
              "      <td>1</td>\n",
              "      <td>0</td>\n",
              "      <td>1</td>\n",
              "      <td>Independent</td>\n",
              "    </tr>\n",
              "    <tr>\n",
              "      <th>...</th>\n",
              "      <td>...</td>\n",
              "      <td>...</td>\n",
              "      <td>...</td>\n",
              "      <td>...</td>\n",
              "      <td>...</td>\n",
              "      <td>...</td>\n",
              "      <td>...</td>\n",
              "      <td>...</td>\n",
              "      <td>...</td>\n",
              "      <td>...</td>\n",
              "      <td>...</td>\n",
              "    </tr>\n",
              "    <tr>\n",
              "      <th>999</th>\n",
              "      <td>1000</td>\n",
              "      <td>37626</td>\n",
              "      <td>20830</td>\n",
              "      <td>0</td>\n",
              "      <td>1</td>\n",
              "      <td>38</td>\n",
              "      <td>4</td>\n",
              "      <td>0</td>\n",
              "      <td>1</td>\n",
              "      <td>0</td>\n",
              "      <td>Democrat</td>\n",
              "    </tr>\n",
              "    <tr>\n",
              "      <th>1000</th>\n",
              "      <td>1001</td>\n",
              "      <td>79765</td>\n",
              "      <td>63483</td>\n",
              "      <td>2</td>\n",
              "      <td>1</td>\n",
              "      <td>71</td>\n",
              "      <td>5</td>\n",
              "      <td>0</td>\n",
              "      <td>1</td>\n",
              "      <td>0</td>\n",
              "      <td>Republican</td>\n",
              "    </tr>\n",
              "    <tr>\n",
              "      <th>1001</th>\n",
              "      <td>1002</td>\n",
              "      <td>111219</td>\n",
              "      <td>-573449</td>\n",
              "      <td>0</td>\n",
              "      <td>4</td>\n",
              "      <td>35</td>\n",
              "      <td>2</td>\n",
              "      <td>0</td>\n",
              "      <td>0</td>\n",
              "      <td>0</td>\n",
              "      <td>Republican</td>\n",
              "    </tr>\n",
              "    <tr>\n",
              "      <th>1002</th>\n",
              "      <td>1003</td>\n",
              "      <td>105591</td>\n",
              "      <td>-611207</td>\n",
              "      <td>0</td>\n",
              "      <td>1</td>\n",
              "      <td>59</td>\n",
              "      <td>1</td>\n",
              "      <td>1</td>\n",
              "      <td>1</td>\n",
              "      <td>0</td>\n",
              "      <td>Republican</td>\n",
              "    </tr>\n",
              "    <tr>\n",
              "      <th>1003</th>\n",
              "      <td>1004</td>\n",
              "      <td>201463</td>\n",
              "      <td>310275</td>\n",
              "      <td>1</td>\n",
              "      <td>3</td>\n",
              "      <td>58</td>\n",
              "      <td>5</td>\n",
              "      <td>1</td>\n",
              "      <td>0</td>\n",
              "      <td>1</td>\n",
              "      <td>Republican</td>\n",
              "    </tr>\n",
              "  </tbody>\n",
              "</table>\n",
              "<p>1004 rows × 11 columns</p>\n",
              "</div>\n",
              "      <button class=\"colab-df-convert\" onclick=\"convertToInteractive('df-c06fc289-8a7d-4d0a-8769-c7508e44701d')\"\n",
              "              title=\"Convert this dataframe to an interactive table.\"\n",
              "              style=\"display:none;\">\n",
              "        \n",
              "  <svg xmlns=\"http://www.w3.org/2000/svg\" height=\"24px\"viewBox=\"0 0 24 24\"\n",
              "       width=\"24px\">\n",
              "    <path d=\"M0 0h24v24H0V0z\" fill=\"none\"/>\n",
              "    <path d=\"M18.56 5.44l.94 2.06.94-2.06 2.06-.94-2.06-.94-.94-2.06-.94 2.06-2.06.94zm-11 1L8.5 8.5l.94-2.06 2.06-.94-2.06-.94L8.5 2.5l-.94 2.06-2.06.94zm10 10l.94 2.06.94-2.06 2.06-.94-2.06-.94-.94-2.06-.94 2.06-2.06.94z\"/><path d=\"M17.41 7.96l-1.37-1.37c-.4-.4-.92-.59-1.43-.59-.52 0-1.04.2-1.43.59L10.3 9.45l-7.72 7.72c-.78.78-.78 2.05 0 2.83L4 21.41c.39.39.9.59 1.41.59.51 0 1.02-.2 1.41-.59l7.78-7.78 2.81-2.81c.8-.78.8-2.07 0-2.86zM5.41 20L4 18.59l7.72-7.72 1.47 1.35L5.41 20z\"/>\n",
              "  </svg>\n",
              "      </button>\n",
              "      \n",
              "  <style>\n",
              "    .colab-df-container {\n",
              "      display:flex;\n",
              "      flex-wrap:wrap;\n",
              "      gap: 12px;\n",
              "    }\n",
              "\n",
              "    .colab-df-convert {\n",
              "      background-color: #E8F0FE;\n",
              "      border: none;\n",
              "      border-radius: 50%;\n",
              "      cursor: pointer;\n",
              "      display: none;\n",
              "      fill: #1967D2;\n",
              "      height: 32px;\n",
              "      padding: 0 0 0 0;\n",
              "      width: 32px;\n",
              "    }\n",
              "\n",
              "    .colab-df-convert:hover {\n",
              "      background-color: #E2EBFA;\n",
              "      box-shadow: 0px 1px 2px rgba(60, 64, 67, 0.3), 0px 1px 3px 1px rgba(60, 64, 67, 0.15);\n",
              "      fill: #174EA6;\n",
              "    }\n",
              "\n",
              "    [theme=dark] .colab-df-convert {\n",
              "      background-color: #3B4455;\n",
              "      fill: #D2E3FC;\n",
              "    }\n",
              "\n",
              "    [theme=dark] .colab-df-convert:hover {\n",
              "      background-color: #434B5C;\n",
              "      box-shadow: 0px 1px 3px 1px rgba(0, 0, 0, 0.15);\n",
              "      filter: drop-shadow(0px 1px 2px rgba(0, 0, 0, 0.3));\n",
              "      fill: #FFFFFF;\n",
              "    }\n",
              "  </style>\n",
              "\n",
              "      <script>\n",
              "        const buttonEl =\n",
              "          document.querySelector('#df-c06fc289-8a7d-4d0a-8769-c7508e44701d button.colab-df-convert');\n",
              "        buttonEl.style.display =\n",
              "          google.colab.kernel.accessAllowed ? 'block' : 'none';\n",
              "\n",
              "        async function convertToInteractive(key) {\n",
              "          const element = document.querySelector('#df-c06fc289-8a7d-4d0a-8769-c7508e44701d');\n",
              "          const dataTable =\n",
              "            await google.colab.kernel.invokeFunction('convertToInteractive',\n",
              "                                                     [key], {});\n",
              "          if (!dataTable) return;\n",
              "\n",
              "          const docLinkHtml = 'Like what you see? Visit the ' +\n",
              "            '<a target=\"_blank\" href=https://colab.research.google.com/notebooks/data_table.ipynb>data table notebook</a>'\n",
              "            + ' to learn more about interactive tables.';\n",
              "          element.innerHTML = '';\n",
              "          dataTable['output_type'] = 'display_data';\n",
              "          await google.colab.output.renderOutput(dataTable, element);\n",
              "          const docLink = document.createElement('div');\n",
              "          docLink.innerHTML = docLinkHtml;\n",
              "          element.appendChild(docLink);\n",
              "        }\n",
              "      </script>\n",
              "    </div>\n",
              "  </div>\n",
              "  "
            ]
          },
          "metadata": {},
          "execution_count": 7
        }
      ]
    },
    {
      "cell_type": "code",
      "source": [
        "tax.shape"
      ],
      "metadata": {
        "colab": {
          "base_uri": "https://localhost:8080/"
        },
        "id": "sz14GfsU9T7K",
        "outputId": "2675e3b9-bf97-4c40-c082-daff3440bf5a"
      },
      "execution_count": null,
      "outputs": [
        {
          "output_type": "execute_result",
          "data": {
            "text/plain": [
              "(1004, 11)"
            ]
          },
          "metadata": {},
          "execution_count": 8
        }
      ]
    },
    {
      "cell_type": "code",
      "source": [
        "tax.head()"
      ],
      "metadata": {
        "colab": {
          "base_uri": "https://localhost:8080/",
          "height": 206
        },
        "id": "wmiumy1b9T9i",
        "outputId": "4a9b0a26-58e0-47dd-95d5-31482c7c0cfa"
      },
      "execution_count": null,
      "outputs": [
        {
          "output_type": "execute_result",
          "data": {
            "text/plain": [
              "   Unnamed: 0     HHI    HHDL  Married  CollegGrads  AHHAge  Cars  \\\n",
              "0           1   49685  227187        0            0     105     0   \n",
              "1           2   64756 -507342        2            3      68     3   \n",
              "2           3  115435  521290        1            3      81     2   \n",
              "3           4   99454  251829        2            1      52     4   \n",
              "4           5  157274 -472337        0            1      28     1   \n",
              "\n",
              "   Filed in 2017  Filed in 2016  Filed in 2015 PoliticalParty  \n",
              "0              1              1              1       Democrat  \n",
              "1              1              0              0    Independent  \n",
              "2              0              1              0     Republican  \n",
              "3              1              0              0     Republican  \n",
              "4              1              0              1    Independent  "
            ],
            "text/html": [
              "\n",
              "  <div id=\"df-a7b28403-c408-4f2b-a121-fe6d3844a586\">\n",
              "    <div class=\"colab-df-container\">\n",
              "      <div>\n",
              "<style scoped>\n",
              "    .dataframe tbody tr th:only-of-type {\n",
              "        vertical-align: middle;\n",
              "    }\n",
              "\n",
              "    .dataframe tbody tr th {\n",
              "        vertical-align: top;\n",
              "    }\n",
              "\n",
              "    .dataframe thead th {\n",
              "        text-align: right;\n",
              "    }\n",
              "</style>\n",
              "<table border=\"1\" class=\"dataframe\">\n",
              "  <thead>\n",
              "    <tr style=\"text-align: right;\">\n",
              "      <th></th>\n",
              "      <th>Unnamed: 0</th>\n",
              "      <th>HHI</th>\n",
              "      <th>HHDL</th>\n",
              "      <th>Married</th>\n",
              "      <th>CollegGrads</th>\n",
              "      <th>AHHAge</th>\n",
              "      <th>Cars</th>\n",
              "      <th>Filed in 2017</th>\n",
              "      <th>Filed in 2016</th>\n",
              "      <th>Filed in 2015</th>\n",
              "      <th>PoliticalParty</th>\n",
              "    </tr>\n",
              "  </thead>\n",
              "  <tbody>\n",
              "    <tr>\n",
              "      <th>0</th>\n",
              "      <td>1</td>\n",
              "      <td>49685</td>\n",
              "      <td>227187</td>\n",
              "      <td>0</td>\n",
              "      <td>0</td>\n",
              "      <td>105</td>\n",
              "      <td>0</td>\n",
              "      <td>1</td>\n",
              "      <td>1</td>\n",
              "      <td>1</td>\n",
              "      <td>Democrat</td>\n",
              "    </tr>\n",
              "    <tr>\n",
              "      <th>1</th>\n",
              "      <td>2</td>\n",
              "      <td>64756</td>\n",
              "      <td>-507342</td>\n",
              "      <td>2</td>\n",
              "      <td>3</td>\n",
              "      <td>68</td>\n",
              "      <td>3</td>\n",
              "      <td>1</td>\n",
              "      <td>0</td>\n",
              "      <td>0</td>\n",
              "      <td>Independent</td>\n",
              "    </tr>\n",
              "    <tr>\n",
              "      <th>2</th>\n",
              "      <td>3</td>\n",
              "      <td>115435</td>\n",
              "      <td>521290</td>\n",
              "      <td>1</td>\n",
              "      <td>3</td>\n",
              "      <td>81</td>\n",
              "      <td>2</td>\n",
              "      <td>0</td>\n",
              "      <td>1</td>\n",
              "      <td>0</td>\n",
              "      <td>Republican</td>\n",
              "    </tr>\n",
              "    <tr>\n",
              "      <th>3</th>\n",
              "      <td>4</td>\n",
              "      <td>99454</td>\n",
              "      <td>251829</td>\n",
              "      <td>2</td>\n",
              "      <td>1</td>\n",
              "      <td>52</td>\n",
              "      <td>4</td>\n",
              "      <td>1</td>\n",
              "      <td>0</td>\n",
              "      <td>0</td>\n",
              "      <td>Republican</td>\n",
              "    </tr>\n",
              "    <tr>\n",
              "      <th>4</th>\n",
              "      <td>5</td>\n",
              "      <td>157274</td>\n",
              "      <td>-472337</td>\n",
              "      <td>0</td>\n",
              "      <td>1</td>\n",
              "      <td>28</td>\n",
              "      <td>1</td>\n",
              "      <td>1</td>\n",
              "      <td>0</td>\n",
              "      <td>1</td>\n",
              "      <td>Independent</td>\n",
              "    </tr>\n",
              "  </tbody>\n",
              "</table>\n",
              "</div>\n",
              "      <button class=\"colab-df-convert\" onclick=\"convertToInteractive('df-a7b28403-c408-4f2b-a121-fe6d3844a586')\"\n",
              "              title=\"Convert this dataframe to an interactive table.\"\n",
              "              style=\"display:none;\">\n",
              "        \n",
              "  <svg xmlns=\"http://www.w3.org/2000/svg\" height=\"24px\"viewBox=\"0 0 24 24\"\n",
              "       width=\"24px\">\n",
              "    <path d=\"M0 0h24v24H0V0z\" fill=\"none\"/>\n",
              "    <path d=\"M18.56 5.44l.94 2.06.94-2.06 2.06-.94-2.06-.94-.94-2.06-.94 2.06-2.06.94zm-11 1L8.5 8.5l.94-2.06 2.06-.94-2.06-.94L8.5 2.5l-.94 2.06-2.06.94zm10 10l.94 2.06.94-2.06 2.06-.94-2.06-.94-.94-2.06-.94 2.06-2.06.94z\"/><path d=\"M17.41 7.96l-1.37-1.37c-.4-.4-.92-.59-1.43-.59-.52 0-1.04.2-1.43.59L10.3 9.45l-7.72 7.72c-.78.78-.78 2.05 0 2.83L4 21.41c.39.39.9.59 1.41.59.51 0 1.02-.2 1.41-.59l7.78-7.78 2.81-2.81c.8-.78.8-2.07 0-2.86zM5.41 20L4 18.59l7.72-7.72 1.47 1.35L5.41 20z\"/>\n",
              "  </svg>\n",
              "      </button>\n",
              "      \n",
              "  <style>\n",
              "    .colab-df-container {\n",
              "      display:flex;\n",
              "      flex-wrap:wrap;\n",
              "      gap: 12px;\n",
              "    }\n",
              "\n",
              "    .colab-df-convert {\n",
              "      background-color: #E8F0FE;\n",
              "      border: none;\n",
              "      border-radius: 50%;\n",
              "      cursor: pointer;\n",
              "      display: none;\n",
              "      fill: #1967D2;\n",
              "      height: 32px;\n",
              "      padding: 0 0 0 0;\n",
              "      width: 32px;\n",
              "    }\n",
              "\n",
              "    .colab-df-convert:hover {\n",
              "      background-color: #E2EBFA;\n",
              "      box-shadow: 0px 1px 2px rgba(60, 64, 67, 0.3), 0px 1px 3px 1px rgba(60, 64, 67, 0.15);\n",
              "      fill: #174EA6;\n",
              "    }\n",
              "\n",
              "    [theme=dark] .colab-df-convert {\n",
              "      background-color: #3B4455;\n",
              "      fill: #D2E3FC;\n",
              "    }\n",
              "\n",
              "    [theme=dark] .colab-df-convert:hover {\n",
              "      background-color: #434B5C;\n",
              "      box-shadow: 0px 1px 3px 1px rgba(0, 0, 0, 0.15);\n",
              "      filter: drop-shadow(0px 1px 2px rgba(0, 0, 0, 0.3));\n",
              "      fill: #FFFFFF;\n",
              "    }\n",
              "  </style>\n",
              "\n",
              "      <script>\n",
              "        const buttonEl =\n",
              "          document.querySelector('#df-a7b28403-c408-4f2b-a121-fe6d3844a586 button.colab-df-convert');\n",
              "        buttonEl.style.display =\n",
              "          google.colab.kernel.accessAllowed ? 'block' : 'none';\n",
              "\n",
              "        async function convertToInteractive(key) {\n",
              "          const element = document.querySelector('#df-a7b28403-c408-4f2b-a121-fe6d3844a586');\n",
              "          const dataTable =\n",
              "            await google.colab.kernel.invokeFunction('convertToInteractive',\n",
              "                                                     [key], {});\n",
              "          if (!dataTable) return;\n",
              "\n",
              "          const docLinkHtml = 'Like what you see? Visit the ' +\n",
              "            '<a target=\"_blank\" href=https://colab.research.google.com/notebooks/data_table.ipynb>data table notebook</a>'\n",
              "            + ' to learn more about interactive tables.';\n",
              "          element.innerHTML = '';\n",
              "          dataTable['output_type'] = 'display_data';\n",
              "          await google.colab.output.renderOutput(dataTable, element);\n",
              "          const docLink = document.createElement('div');\n",
              "          docLink.innerHTML = docLinkHtml;\n",
              "          element.appendChild(docLink);\n",
              "        }\n",
              "      </script>\n",
              "    </div>\n",
              "  </div>\n",
              "  "
            ]
          },
          "metadata": {},
          "execution_count": 9
        }
      ]
    },
    {
      "cell_type": "code",
      "source": [
        "tax.tail()"
      ],
      "metadata": {
        "colab": {
          "base_uri": "https://localhost:8080/",
          "height": 206
        },
        "id": "d28YtcD49UAx",
        "outputId": "4df61263-fef4-45f2-d3da-a341769df060"
      },
      "execution_count": null,
      "outputs": [
        {
          "output_type": "execute_result",
          "data": {
            "text/plain": [
              "      Unnamed: 0     HHI    HHDL  Married  CollegGrads  AHHAge  Cars  \\\n",
              "999         1000   37626   20830        0            1      38     4   \n",
              "1000        1001   79765   63483        2            1      71     5   \n",
              "1001        1002  111219 -573449        0            4      35     2   \n",
              "1002        1003  105591 -611207        0            1      59     1   \n",
              "1003        1004  201463  310275        1            3      58     5   \n",
              "\n",
              "      Filed in 2017  Filed in 2016  Filed in 2015 PoliticalParty  \n",
              "999               0              1              0       Democrat  \n",
              "1000              0              1              0     Republican  \n",
              "1001              0              0              0     Republican  \n",
              "1002              1              1              0     Republican  \n",
              "1003              1              0              1     Republican  "
            ],
            "text/html": [
              "\n",
              "  <div id=\"df-c77efe1e-f243-4142-aa4a-e371ba976aa8\">\n",
              "    <div class=\"colab-df-container\">\n",
              "      <div>\n",
              "<style scoped>\n",
              "    .dataframe tbody tr th:only-of-type {\n",
              "        vertical-align: middle;\n",
              "    }\n",
              "\n",
              "    .dataframe tbody tr th {\n",
              "        vertical-align: top;\n",
              "    }\n",
              "\n",
              "    .dataframe thead th {\n",
              "        text-align: right;\n",
              "    }\n",
              "</style>\n",
              "<table border=\"1\" class=\"dataframe\">\n",
              "  <thead>\n",
              "    <tr style=\"text-align: right;\">\n",
              "      <th></th>\n",
              "      <th>Unnamed: 0</th>\n",
              "      <th>HHI</th>\n",
              "      <th>HHDL</th>\n",
              "      <th>Married</th>\n",
              "      <th>CollegGrads</th>\n",
              "      <th>AHHAge</th>\n",
              "      <th>Cars</th>\n",
              "      <th>Filed in 2017</th>\n",
              "      <th>Filed in 2016</th>\n",
              "      <th>Filed in 2015</th>\n",
              "      <th>PoliticalParty</th>\n",
              "    </tr>\n",
              "  </thead>\n",
              "  <tbody>\n",
              "    <tr>\n",
              "      <th>999</th>\n",
              "      <td>1000</td>\n",
              "      <td>37626</td>\n",
              "      <td>20830</td>\n",
              "      <td>0</td>\n",
              "      <td>1</td>\n",
              "      <td>38</td>\n",
              "      <td>4</td>\n",
              "      <td>0</td>\n",
              "      <td>1</td>\n",
              "      <td>0</td>\n",
              "      <td>Democrat</td>\n",
              "    </tr>\n",
              "    <tr>\n",
              "      <th>1000</th>\n",
              "      <td>1001</td>\n",
              "      <td>79765</td>\n",
              "      <td>63483</td>\n",
              "      <td>2</td>\n",
              "      <td>1</td>\n",
              "      <td>71</td>\n",
              "      <td>5</td>\n",
              "      <td>0</td>\n",
              "      <td>1</td>\n",
              "      <td>0</td>\n",
              "      <td>Republican</td>\n",
              "    </tr>\n",
              "    <tr>\n",
              "      <th>1001</th>\n",
              "      <td>1002</td>\n",
              "      <td>111219</td>\n",
              "      <td>-573449</td>\n",
              "      <td>0</td>\n",
              "      <td>4</td>\n",
              "      <td>35</td>\n",
              "      <td>2</td>\n",
              "      <td>0</td>\n",
              "      <td>0</td>\n",
              "      <td>0</td>\n",
              "      <td>Republican</td>\n",
              "    </tr>\n",
              "    <tr>\n",
              "      <th>1002</th>\n",
              "      <td>1003</td>\n",
              "      <td>105591</td>\n",
              "      <td>-611207</td>\n",
              "      <td>0</td>\n",
              "      <td>1</td>\n",
              "      <td>59</td>\n",
              "      <td>1</td>\n",
              "      <td>1</td>\n",
              "      <td>1</td>\n",
              "      <td>0</td>\n",
              "      <td>Republican</td>\n",
              "    </tr>\n",
              "    <tr>\n",
              "      <th>1003</th>\n",
              "      <td>1004</td>\n",
              "      <td>201463</td>\n",
              "      <td>310275</td>\n",
              "      <td>1</td>\n",
              "      <td>3</td>\n",
              "      <td>58</td>\n",
              "      <td>5</td>\n",
              "      <td>1</td>\n",
              "      <td>0</td>\n",
              "      <td>1</td>\n",
              "      <td>Republican</td>\n",
              "    </tr>\n",
              "  </tbody>\n",
              "</table>\n",
              "</div>\n",
              "      <button class=\"colab-df-convert\" onclick=\"convertToInteractive('df-c77efe1e-f243-4142-aa4a-e371ba976aa8')\"\n",
              "              title=\"Convert this dataframe to an interactive table.\"\n",
              "              style=\"display:none;\">\n",
              "        \n",
              "  <svg xmlns=\"http://www.w3.org/2000/svg\" height=\"24px\"viewBox=\"0 0 24 24\"\n",
              "       width=\"24px\">\n",
              "    <path d=\"M0 0h24v24H0V0z\" fill=\"none\"/>\n",
              "    <path d=\"M18.56 5.44l.94 2.06.94-2.06 2.06-.94-2.06-.94-.94-2.06-.94 2.06-2.06.94zm-11 1L8.5 8.5l.94-2.06 2.06-.94-2.06-.94L8.5 2.5l-.94 2.06-2.06.94zm10 10l.94 2.06.94-2.06 2.06-.94-2.06-.94-.94-2.06-.94 2.06-2.06.94z\"/><path d=\"M17.41 7.96l-1.37-1.37c-.4-.4-.92-.59-1.43-.59-.52 0-1.04.2-1.43.59L10.3 9.45l-7.72 7.72c-.78.78-.78 2.05 0 2.83L4 21.41c.39.39.9.59 1.41.59.51 0 1.02-.2 1.41-.59l7.78-7.78 2.81-2.81c.8-.78.8-2.07 0-2.86zM5.41 20L4 18.59l7.72-7.72 1.47 1.35L5.41 20z\"/>\n",
              "  </svg>\n",
              "      </button>\n",
              "      \n",
              "  <style>\n",
              "    .colab-df-container {\n",
              "      display:flex;\n",
              "      flex-wrap:wrap;\n",
              "      gap: 12px;\n",
              "    }\n",
              "\n",
              "    .colab-df-convert {\n",
              "      background-color: #E8F0FE;\n",
              "      border: none;\n",
              "      border-radius: 50%;\n",
              "      cursor: pointer;\n",
              "      display: none;\n",
              "      fill: #1967D2;\n",
              "      height: 32px;\n",
              "      padding: 0 0 0 0;\n",
              "      width: 32px;\n",
              "    }\n",
              "\n",
              "    .colab-df-convert:hover {\n",
              "      background-color: #E2EBFA;\n",
              "      box-shadow: 0px 1px 2px rgba(60, 64, 67, 0.3), 0px 1px 3px 1px rgba(60, 64, 67, 0.15);\n",
              "      fill: #174EA6;\n",
              "    }\n",
              "\n",
              "    [theme=dark] .colab-df-convert {\n",
              "      background-color: #3B4455;\n",
              "      fill: #D2E3FC;\n",
              "    }\n",
              "\n",
              "    [theme=dark] .colab-df-convert:hover {\n",
              "      background-color: #434B5C;\n",
              "      box-shadow: 0px 1px 3px 1px rgba(0, 0, 0, 0.15);\n",
              "      filter: drop-shadow(0px 1px 2px rgba(0, 0, 0, 0.3));\n",
              "      fill: #FFFFFF;\n",
              "    }\n",
              "  </style>\n",
              "\n",
              "      <script>\n",
              "        const buttonEl =\n",
              "          document.querySelector('#df-c77efe1e-f243-4142-aa4a-e371ba976aa8 button.colab-df-convert');\n",
              "        buttonEl.style.display =\n",
              "          google.colab.kernel.accessAllowed ? 'block' : 'none';\n",
              "\n",
              "        async function convertToInteractive(key) {\n",
              "          const element = document.querySelector('#df-c77efe1e-f243-4142-aa4a-e371ba976aa8');\n",
              "          const dataTable =\n",
              "            await google.colab.kernel.invokeFunction('convertToInteractive',\n",
              "                                                     [key], {});\n",
              "          if (!dataTable) return;\n",
              "\n",
              "          const docLinkHtml = 'Like what you see? Visit the ' +\n",
              "            '<a target=\"_blank\" href=https://colab.research.google.com/notebooks/data_table.ipynb>data table notebook</a>'\n",
              "            + ' to learn more about interactive tables.';\n",
              "          element.innerHTML = '';\n",
              "          dataTable['output_type'] = 'display_data';\n",
              "          await google.colab.output.renderOutput(dataTable, element);\n",
              "          const docLink = document.createElement('div');\n",
              "          docLink.innerHTML = docLinkHtml;\n",
              "          element.appendChild(docLink);\n",
              "        }\n",
              "      </script>\n",
              "    </div>\n",
              "  </div>\n",
              "  "
            ]
          },
          "metadata": {},
          "execution_count": 10
        }
      ]
    },
    {
      "cell_type": "code",
      "source": [
        "tax.isnull().sum()"
      ],
      "metadata": {
        "colab": {
          "base_uri": "https://localhost:8080/"
        },
        "id": "Fdv2zyQt9uP9",
        "outputId": "1ea3f2e8-7b9f-4c17-e0b7-ebcc5f0bea52"
      },
      "execution_count": null,
      "outputs": [
        {
          "output_type": "execute_result",
          "data": {
            "text/plain": [
              "Unnamed: 0        0\n",
              "HHI               0\n",
              "HHDL              0\n",
              "Married           0\n",
              "CollegGrads       0\n",
              "AHHAge            0\n",
              "Cars              0\n",
              "Filed in 2017     0\n",
              "Filed in 2016     0\n",
              "Filed in 2015     0\n",
              "PoliticalParty    0\n",
              "dtype: int64"
            ]
          },
          "metadata": {},
          "execution_count": 11
        }
      ]
    },
    {
      "cell_type": "code",
      "source": [
        "tax.replace({'PoliticalParty':{'Independent':0,'Democrat':1,'Republican':2}},inplace=True)"
      ],
      "metadata": {
        "id": "X0HJ8gmR-2LB"
      },
      "execution_count": null,
      "outputs": []
    },
    {
      "cell_type": "code",
      "source": [
        "tax"
      ],
      "metadata": {
        "colab": {
          "base_uri": "https://localhost:8080/",
          "height": 423
        },
        "id": "npxenVU_Ds7M",
        "outputId": "0dec75d9-4853-497e-e580-51c2f5287c06"
      },
      "execution_count": null,
      "outputs": [
        {
          "output_type": "execute_result",
          "data": {
            "text/plain": [
              "      Unnamed: 0     HHI    HHDL  Married  CollegGrads  AHHAge  Cars  \\\n",
              "0              1   49685  227187        0            0     105     0   \n",
              "1              2   64756 -507342        2            3      68     3   \n",
              "2              3  115435  521290        1            3      81     2   \n",
              "3              4   99454  251829        2            1      52     4   \n",
              "4              5  157274 -472337        0            1      28     1   \n",
              "...          ...     ...     ...      ...          ...     ...   ...   \n",
              "999         1000   37626   20830        0            1      38     4   \n",
              "1000        1001   79765   63483        2            1      71     5   \n",
              "1001        1002  111219 -573449        0            4      35     2   \n",
              "1002        1003  105591 -611207        0            1      59     1   \n",
              "1003        1004  201463  310275        1            3      58     5   \n",
              "\n",
              "      Filed in 2017  Filed in 2016  Filed in 2015  PoliticalParty  \n",
              "0                 1              1              1               1  \n",
              "1                 1              0              0               0  \n",
              "2                 0              1              0               2  \n",
              "3                 1              0              0               2  \n",
              "4                 1              0              1               0  \n",
              "...             ...            ...            ...             ...  \n",
              "999               0              1              0               1  \n",
              "1000              0              1              0               2  \n",
              "1001              0              0              0               2  \n",
              "1002              1              1              0               2  \n",
              "1003              1              0              1               2  \n",
              "\n",
              "[1004 rows x 11 columns]"
            ],
            "text/html": [
              "\n",
              "  <div id=\"df-5435a752-4fdf-45f8-b7c9-f70591328bae\">\n",
              "    <div class=\"colab-df-container\">\n",
              "      <div>\n",
              "<style scoped>\n",
              "    .dataframe tbody tr th:only-of-type {\n",
              "        vertical-align: middle;\n",
              "    }\n",
              "\n",
              "    .dataframe tbody tr th {\n",
              "        vertical-align: top;\n",
              "    }\n",
              "\n",
              "    .dataframe thead th {\n",
              "        text-align: right;\n",
              "    }\n",
              "</style>\n",
              "<table border=\"1\" class=\"dataframe\">\n",
              "  <thead>\n",
              "    <tr style=\"text-align: right;\">\n",
              "      <th></th>\n",
              "      <th>Unnamed: 0</th>\n",
              "      <th>HHI</th>\n",
              "      <th>HHDL</th>\n",
              "      <th>Married</th>\n",
              "      <th>CollegGrads</th>\n",
              "      <th>AHHAge</th>\n",
              "      <th>Cars</th>\n",
              "      <th>Filed in 2017</th>\n",
              "      <th>Filed in 2016</th>\n",
              "      <th>Filed in 2015</th>\n",
              "      <th>PoliticalParty</th>\n",
              "    </tr>\n",
              "  </thead>\n",
              "  <tbody>\n",
              "    <tr>\n",
              "      <th>0</th>\n",
              "      <td>1</td>\n",
              "      <td>49685</td>\n",
              "      <td>227187</td>\n",
              "      <td>0</td>\n",
              "      <td>0</td>\n",
              "      <td>105</td>\n",
              "      <td>0</td>\n",
              "      <td>1</td>\n",
              "      <td>1</td>\n",
              "      <td>1</td>\n",
              "      <td>1</td>\n",
              "    </tr>\n",
              "    <tr>\n",
              "      <th>1</th>\n",
              "      <td>2</td>\n",
              "      <td>64756</td>\n",
              "      <td>-507342</td>\n",
              "      <td>2</td>\n",
              "      <td>3</td>\n",
              "      <td>68</td>\n",
              "      <td>3</td>\n",
              "      <td>1</td>\n",
              "      <td>0</td>\n",
              "      <td>0</td>\n",
              "      <td>0</td>\n",
              "    </tr>\n",
              "    <tr>\n",
              "      <th>2</th>\n",
              "      <td>3</td>\n",
              "      <td>115435</td>\n",
              "      <td>521290</td>\n",
              "      <td>1</td>\n",
              "      <td>3</td>\n",
              "      <td>81</td>\n",
              "      <td>2</td>\n",
              "      <td>0</td>\n",
              "      <td>1</td>\n",
              "      <td>0</td>\n",
              "      <td>2</td>\n",
              "    </tr>\n",
              "    <tr>\n",
              "      <th>3</th>\n",
              "      <td>4</td>\n",
              "      <td>99454</td>\n",
              "      <td>251829</td>\n",
              "      <td>2</td>\n",
              "      <td>1</td>\n",
              "      <td>52</td>\n",
              "      <td>4</td>\n",
              "      <td>1</td>\n",
              "      <td>0</td>\n",
              "      <td>0</td>\n",
              "      <td>2</td>\n",
              "    </tr>\n",
              "    <tr>\n",
              "      <th>4</th>\n",
              "      <td>5</td>\n",
              "      <td>157274</td>\n",
              "      <td>-472337</td>\n",
              "      <td>0</td>\n",
              "      <td>1</td>\n",
              "      <td>28</td>\n",
              "      <td>1</td>\n",
              "      <td>1</td>\n",
              "      <td>0</td>\n",
              "      <td>1</td>\n",
              "      <td>0</td>\n",
              "    </tr>\n",
              "    <tr>\n",
              "      <th>...</th>\n",
              "      <td>...</td>\n",
              "      <td>...</td>\n",
              "      <td>...</td>\n",
              "      <td>...</td>\n",
              "      <td>...</td>\n",
              "      <td>...</td>\n",
              "      <td>...</td>\n",
              "      <td>...</td>\n",
              "      <td>...</td>\n",
              "      <td>...</td>\n",
              "      <td>...</td>\n",
              "    </tr>\n",
              "    <tr>\n",
              "      <th>999</th>\n",
              "      <td>1000</td>\n",
              "      <td>37626</td>\n",
              "      <td>20830</td>\n",
              "      <td>0</td>\n",
              "      <td>1</td>\n",
              "      <td>38</td>\n",
              "      <td>4</td>\n",
              "      <td>0</td>\n",
              "      <td>1</td>\n",
              "      <td>0</td>\n",
              "      <td>1</td>\n",
              "    </tr>\n",
              "    <tr>\n",
              "      <th>1000</th>\n",
              "      <td>1001</td>\n",
              "      <td>79765</td>\n",
              "      <td>63483</td>\n",
              "      <td>2</td>\n",
              "      <td>1</td>\n",
              "      <td>71</td>\n",
              "      <td>5</td>\n",
              "      <td>0</td>\n",
              "      <td>1</td>\n",
              "      <td>0</td>\n",
              "      <td>2</td>\n",
              "    </tr>\n",
              "    <tr>\n",
              "      <th>1001</th>\n",
              "      <td>1002</td>\n",
              "      <td>111219</td>\n",
              "      <td>-573449</td>\n",
              "      <td>0</td>\n",
              "      <td>4</td>\n",
              "      <td>35</td>\n",
              "      <td>2</td>\n",
              "      <td>0</td>\n",
              "      <td>0</td>\n",
              "      <td>0</td>\n",
              "      <td>2</td>\n",
              "    </tr>\n",
              "    <tr>\n",
              "      <th>1002</th>\n",
              "      <td>1003</td>\n",
              "      <td>105591</td>\n",
              "      <td>-611207</td>\n",
              "      <td>0</td>\n",
              "      <td>1</td>\n",
              "      <td>59</td>\n",
              "      <td>1</td>\n",
              "      <td>1</td>\n",
              "      <td>1</td>\n",
              "      <td>0</td>\n",
              "      <td>2</td>\n",
              "    </tr>\n",
              "    <tr>\n",
              "      <th>1003</th>\n",
              "      <td>1004</td>\n",
              "      <td>201463</td>\n",
              "      <td>310275</td>\n",
              "      <td>1</td>\n",
              "      <td>3</td>\n",
              "      <td>58</td>\n",
              "      <td>5</td>\n",
              "      <td>1</td>\n",
              "      <td>0</td>\n",
              "      <td>1</td>\n",
              "      <td>2</td>\n",
              "    </tr>\n",
              "  </tbody>\n",
              "</table>\n",
              "<p>1004 rows × 11 columns</p>\n",
              "</div>\n",
              "      <button class=\"colab-df-convert\" onclick=\"convertToInteractive('df-5435a752-4fdf-45f8-b7c9-f70591328bae')\"\n",
              "              title=\"Convert this dataframe to an interactive table.\"\n",
              "              style=\"display:none;\">\n",
              "        \n",
              "  <svg xmlns=\"http://www.w3.org/2000/svg\" height=\"24px\"viewBox=\"0 0 24 24\"\n",
              "       width=\"24px\">\n",
              "    <path d=\"M0 0h24v24H0V0z\" fill=\"none\"/>\n",
              "    <path d=\"M18.56 5.44l.94 2.06.94-2.06 2.06-.94-2.06-.94-.94-2.06-.94 2.06-2.06.94zm-11 1L8.5 8.5l.94-2.06 2.06-.94-2.06-.94L8.5 2.5l-.94 2.06-2.06.94zm10 10l.94 2.06.94-2.06 2.06-.94-2.06-.94-.94-2.06-.94 2.06-2.06.94z\"/><path d=\"M17.41 7.96l-1.37-1.37c-.4-.4-.92-.59-1.43-.59-.52 0-1.04.2-1.43.59L10.3 9.45l-7.72 7.72c-.78.78-.78 2.05 0 2.83L4 21.41c.39.39.9.59 1.41.59.51 0 1.02-.2 1.41-.59l7.78-7.78 2.81-2.81c.8-.78.8-2.07 0-2.86zM5.41 20L4 18.59l7.72-7.72 1.47 1.35L5.41 20z\"/>\n",
              "  </svg>\n",
              "      </button>\n",
              "      \n",
              "  <style>\n",
              "    .colab-df-container {\n",
              "      display:flex;\n",
              "      flex-wrap:wrap;\n",
              "      gap: 12px;\n",
              "    }\n",
              "\n",
              "    .colab-df-convert {\n",
              "      background-color: #E8F0FE;\n",
              "      border: none;\n",
              "      border-radius: 50%;\n",
              "      cursor: pointer;\n",
              "      display: none;\n",
              "      fill: #1967D2;\n",
              "      height: 32px;\n",
              "      padding: 0 0 0 0;\n",
              "      width: 32px;\n",
              "    }\n",
              "\n",
              "    .colab-df-convert:hover {\n",
              "      background-color: #E2EBFA;\n",
              "      box-shadow: 0px 1px 2px rgba(60, 64, 67, 0.3), 0px 1px 3px 1px rgba(60, 64, 67, 0.15);\n",
              "      fill: #174EA6;\n",
              "    }\n",
              "\n",
              "    [theme=dark] .colab-df-convert {\n",
              "      background-color: #3B4455;\n",
              "      fill: #D2E3FC;\n",
              "    }\n",
              "\n",
              "    [theme=dark] .colab-df-convert:hover {\n",
              "      background-color: #434B5C;\n",
              "      box-shadow: 0px 1px 3px 1px rgba(0, 0, 0, 0.15);\n",
              "      filter: drop-shadow(0px 1px 2px rgba(0, 0, 0, 0.3));\n",
              "      fill: #FFFFFF;\n",
              "    }\n",
              "  </style>\n",
              "\n",
              "      <script>\n",
              "        const buttonEl =\n",
              "          document.querySelector('#df-5435a752-4fdf-45f8-b7c9-f70591328bae button.colab-df-convert');\n",
              "        buttonEl.style.display =\n",
              "          google.colab.kernel.accessAllowed ? 'block' : 'none';\n",
              "\n",
              "        async function convertToInteractive(key) {\n",
              "          const element = document.querySelector('#df-5435a752-4fdf-45f8-b7c9-f70591328bae');\n",
              "          const dataTable =\n",
              "            await google.colab.kernel.invokeFunction('convertToInteractive',\n",
              "                                                     [key], {});\n",
              "          if (!dataTable) return;\n",
              "\n",
              "          const docLinkHtml = 'Like what you see? Visit the ' +\n",
              "            '<a target=\"_blank\" href=https://colab.research.google.com/notebooks/data_table.ipynb>data table notebook</a>'\n",
              "            + ' to learn more about interactive tables.';\n",
              "          element.innerHTML = '';\n",
              "          dataTable['output_type'] = 'display_data';\n",
              "          await google.colab.output.renderOutput(dataTable, element);\n",
              "          const docLink = document.createElement('div');\n",
              "          docLink.innerHTML = docLinkHtml;\n",
              "          element.appendChild(docLink);\n",
              "        }\n",
              "      </script>\n",
              "    </div>\n",
              "  </div>\n",
              "  "
            ]
          },
          "metadata": {},
          "execution_count": 13
        }
      ]
    },
    {
      "cell_type": "markdown",
      "source": [
        "Data Analysis and Visualisation"
      ],
      "metadata": {
        "id": "qws4ys0L9zZi"
      }
    },
    {
      "cell_type": "code",
      "source": [
        "tax.describe()"
      ],
      "metadata": {
        "colab": {
          "base_uri": "https://localhost:8080/",
          "height": 381
        },
        "id": "aZQ1WpJo9uSU",
        "outputId": "d93f1df2-c11f-4afe-9dd8-3db1fc56713d"
      },
      "execution_count": null,
      "outputs": [
        {
          "output_type": "execute_result",
          "data": {
            "text/plain": [
              "        Unnamed: 0            HHI           HHDL      Married  CollegGrads  \\\n",
              "count  1004.000000    1004.000000    1004.000000  1004.000000  1004.000000   \n",
              "mean    502.500000  153524.522908   -6666.766932     0.970120     2.595618   \n",
              "std     289.974137   86167.778113  593751.687936     0.806939     1.687388   \n",
              "min       1.000000     185.000000 -999994.000000     0.000000     0.000000   \n",
              "25%     251.750000   82788.500000 -514295.500000     0.000000     1.000000   \n",
              "50%     502.500000  153788.500000  -11331.500000     1.000000     3.000000   \n",
              "75%     753.250000  228034.000000  526141.250000     2.000000     4.000000   \n",
              "max    1004.000000  299700.000000  999628.000000     2.000000     5.000000   \n",
              "\n",
              "            AHHAge         Cars  Filed in 2017  Filed in 2016  Filed in 2015  \\\n",
              "count  1004.000000  1004.000000    1004.000000    1004.000000     1004.00000   \n",
              "mean     60.577689     2.447211       0.507968       0.512948        0.50996   \n",
              "std      24.847991     1.701621       0.500186       0.500081        0.50015   \n",
              "min      18.000000     0.000000       0.000000       0.000000        0.00000   \n",
              "25%      39.000000     1.000000       0.000000       0.000000        0.00000   \n",
              "50%      60.000000     2.000000       1.000000       1.000000        1.00000   \n",
              "75%      81.000000     4.000000       1.000000       1.000000        1.00000   \n",
              "max     105.000000     5.000000       1.000000       1.000000        1.00000   \n",
              "\n",
              "       PoliticalParty  \n",
              "count     1004.000000  \n",
              "mean         0.994024  \n",
              "std          0.816068  \n",
              "min          0.000000  \n",
              "25%          0.000000  \n",
              "50%          1.000000  \n",
              "75%          2.000000  \n",
              "max          2.000000  "
            ],
            "text/html": [
              "\n",
              "  <div id=\"df-41b25ab3-c9f1-49ef-8ae5-cf799d8843f1\">\n",
              "    <div class=\"colab-df-container\">\n",
              "      <div>\n",
              "<style scoped>\n",
              "    .dataframe tbody tr th:only-of-type {\n",
              "        vertical-align: middle;\n",
              "    }\n",
              "\n",
              "    .dataframe tbody tr th {\n",
              "        vertical-align: top;\n",
              "    }\n",
              "\n",
              "    .dataframe thead th {\n",
              "        text-align: right;\n",
              "    }\n",
              "</style>\n",
              "<table border=\"1\" class=\"dataframe\">\n",
              "  <thead>\n",
              "    <tr style=\"text-align: right;\">\n",
              "      <th></th>\n",
              "      <th>Unnamed: 0</th>\n",
              "      <th>HHI</th>\n",
              "      <th>HHDL</th>\n",
              "      <th>Married</th>\n",
              "      <th>CollegGrads</th>\n",
              "      <th>AHHAge</th>\n",
              "      <th>Cars</th>\n",
              "      <th>Filed in 2017</th>\n",
              "      <th>Filed in 2016</th>\n",
              "      <th>Filed in 2015</th>\n",
              "      <th>PoliticalParty</th>\n",
              "    </tr>\n",
              "  </thead>\n",
              "  <tbody>\n",
              "    <tr>\n",
              "      <th>count</th>\n",
              "      <td>1004.000000</td>\n",
              "      <td>1004.000000</td>\n",
              "      <td>1004.000000</td>\n",
              "      <td>1004.000000</td>\n",
              "      <td>1004.000000</td>\n",
              "      <td>1004.000000</td>\n",
              "      <td>1004.000000</td>\n",
              "      <td>1004.000000</td>\n",
              "      <td>1004.000000</td>\n",
              "      <td>1004.00000</td>\n",
              "      <td>1004.000000</td>\n",
              "    </tr>\n",
              "    <tr>\n",
              "      <th>mean</th>\n",
              "      <td>502.500000</td>\n",
              "      <td>153524.522908</td>\n",
              "      <td>-6666.766932</td>\n",
              "      <td>0.970120</td>\n",
              "      <td>2.595618</td>\n",
              "      <td>60.577689</td>\n",
              "      <td>2.447211</td>\n",
              "      <td>0.507968</td>\n",
              "      <td>0.512948</td>\n",
              "      <td>0.50996</td>\n",
              "      <td>0.994024</td>\n",
              "    </tr>\n",
              "    <tr>\n",
              "      <th>std</th>\n",
              "      <td>289.974137</td>\n",
              "      <td>86167.778113</td>\n",
              "      <td>593751.687936</td>\n",
              "      <td>0.806939</td>\n",
              "      <td>1.687388</td>\n",
              "      <td>24.847991</td>\n",
              "      <td>1.701621</td>\n",
              "      <td>0.500186</td>\n",
              "      <td>0.500081</td>\n",
              "      <td>0.50015</td>\n",
              "      <td>0.816068</td>\n",
              "    </tr>\n",
              "    <tr>\n",
              "      <th>min</th>\n",
              "      <td>1.000000</td>\n",
              "      <td>185.000000</td>\n",
              "      <td>-999994.000000</td>\n",
              "      <td>0.000000</td>\n",
              "      <td>0.000000</td>\n",
              "      <td>18.000000</td>\n",
              "      <td>0.000000</td>\n",
              "      <td>0.000000</td>\n",
              "      <td>0.000000</td>\n",
              "      <td>0.00000</td>\n",
              "      <td>0.000000</td>\n",
              "    </tr>\n",
              "    <tr>\n",
              "      <th>25%</th>\n",
              "      <td>251.750000</td>\n",
              "      <td>82788.500000</td>\n",
              "      <td>-514295.500000</td>\n",
              "      <td>0.000000</td>\n",
              "      <td>1.000000</td>\n",
              "      <td>39.000000</td>\n",
              "      <td>1.000000</td>\n",
              "      <td>0.000000</td>\n",
              "      <td>0.000000</td>\n",
              "      <td>0.00000</td>\n",
              "      <td>0.000000</td>\n",
              "    </tr>\n",
              "    <tr>\n",
              "      <th>50%</th>\n",
              "      <td>502.500000</td>\n",
              "      <td>153788.500000</td>\n",
              "      <td>-11331.500000</td>\n",
              "      <td>1.000000</td>\n",
              "      <td>3.000000</td>\n",
              "      <td>60.000000</td>\n",
              "      <td>2.000000</td>\n",
              "      <td>1.000000</td>\n",
              "      <td>1.000000</td>\n",
              "      <td>1.00000</td>\n",
              "      <td>1.000000</td>\n",
              "    </tr>\n",
              "    <tr>\n",
              "      <th>75%</th>\n",
              "      <td>753.250000</td>\n",
              "      <td>228034.000000</td>\n",
              "      <td>526141.250000</td>\n",
              "      <td>2.000000</td>\n",
              "      <td>4.000000</td>\n",
              "      <td>81.000000</td>\n",
              "      <td>4.000000</td>\n",
              "      <td>1.000000</td>\n",
              "      <td>1.000000</td>\n",
              "      <td>1.00000</td>\n",
              "      <td>2.000000</td>\n",
              "    </tr>\n",
              "    <tr>\n",
              "      <th>max</th>\n",
              "      <td>1004.000000</td>\n",
              "      <td>299700.000000</td>\n",
              "      <td>999628.000000</td>\n",
              "      <td>2.000000</td>\n",
              "      <td>5.000000</td>\n",
              "      <td>105.000000</td>\n",
              "      <td>5.000000</td>\n",
              "      <td>1.000000</td>\n",
              "      <td>1.000000</td>\n",
              "      <td>1.00000</td>\n",
              "      <td>2.000000</td>\n",
              "    </tr>\n",
              "  </tbody>\n",
              "</table>\n",
              "</div>\n",
              "      <button class=\"colab-df-convert\" onclick=\"convertToInteractive('df-41b25ab3-c9f1-49ef-8ae5-cf799d8843f1')\"\n",
              "              title=\"Convert this dataframe to an interactive table.\"\n",
              "              style=\"display:none;\">\n",
              "        \n",
              "  <svg xmlns=\"http://www.w3.org/2000/svg\" height=\"24px\"viewBox=\"0 0 24 24\"\n",
              "       width=\"24px\">\n",
              "    <path d=\"M0 0h24v24H0V0z\" fill=\"none\"/>\n",
              "    <path d=\"M18.56 5.44l.94 2.06.94-2.06 2.06-.94-2.06-.94-.94-2.06-.94 2.06-2.06.94zm-11 1L8.5 8.5l.94-2.06 2.06-.94-2.06-.94L8.5 2.5l-.94 2.06-2.06.94zm10 10l.94 2.06.94-2.06 2.06-.94-2.06-.94-.94-2.06-.94 2.06-2.06.94z\"/><path d=\"M17.41 7.96l-1.37-1.37c-.4-.4-.92-.59-1.43-.59-.52 0-1.04.2-1.43.59L10.3 9.45l-7.72 7.72c-.78.78-.78 2.05 0 2.83L4 21.41c.39.39.9.59 1.41.59.51 0 1.02-.2 1.41-.59l7.78-7.78 2.81-2.81c.8-.78.8-2.07 0-2.86zM5.41 20L4 18.59l7.72-7.72 1.47 1.35L5.41 20z\"/>\n",
              "  </svg>\n",
              "      </button>\n",
              "      \n",
              "  <style>\n",
              "    .colab-df-container {\n",
              "      display:flex;\n",
              "      flex-wrap:wrap;\n",
              "      gap: 12px;\n",
              "    }\n",
              "\n",
              "    .colab-df-convert {\n",
              "      background-color: #E8F0FE;\n",
              "      border: none;\n",
              "      border-radius: 50%;\n",
              "      cursor: pointer;\n",
              "      display: none;\n",
              "      fill: #1967D2;\n",
              "      height: 32px;\n",
              "      padding: 0 0 0 0;\n",
              "      width: 32px;\n",
              "    }\n",
              "\n",
              "    .colab-df-convert:hover {\n",
              "      background-color: #E2EBFA;\n",
              "      box-shadow: 0px 1px 2px rgba(60, 64, 67, 0.3), 0px 1px 3px 1px rgba(60, 64, 67, 0.15);\n",
              "      fill: #174EA6;\n",
              "    }\n",
              "\n",
              "    [theme=dark] .colab-df-convert {\n",
              "      background-color: #3B4455;\n",
              "      fill: #D2E3FC;\n",
              "    }\n",
              "\n",
              "    [theme=dark] .colab-df-convert:hover {\n",
              "      background-color: #434B5C;\n",
              "      box-shadow: 0px 1px 3px 1px rgba(0, 0, 0, 0.15);\n",
              "      filter: drop-shadow(0px 1px 2px rgba(0, 0, 0, 0.3));\n",
              "      fill: #FFFFFF;\n",
              "    }\n",
              "  </style>\n",
              "\n",
              "      <script>\n",
              "        const buttonEl =\n",
              "          document.querySelector('#df-41b25ab3-c9f1-49ef-8ae5-cf799d8843f1 button.colab-df-convert');\n",
              "        buttonEl.style.display =\n",
              "          google.colab.kernel.accessAllowed ? 'block' : 'none';\n",
              "\n",
              "        async function convertToInteractive(key) {\n",
              "          const element = document.querySelector('#df-41b25ab3-c9f1-49ef-8ae5-cf799d8843f1');\n",
              "          const dataTable =\n",
              "            await google.colab.kernel.invokeFunction('convertToInteractive',\n",
              "                                                     [key], {});\n",
              "          if (!dataTable) return;\n",
              "\n",
              "          const docLinkHtml = 'Like what you see? Visit the ' +\n",
              "            '<a target=\"_blank\" href=https://colab.research.google.com/notebooks/data_table.ipynb>data table notebook</a>'\n",
              "            + ' to learn more about interactive tables.';\n",
              "          element.innerHTML = '';\n",
              "          dataTable['output_type'] = 'display_data';\n",
              "          await google.colab.output.renderOutput(dataTable, element);\n",
              "          const docLink = document.createElement('div');\n",
              "          docLink.innerHTML = docLinkHtml;\n",
              "          element.appendChild(docLink);\n",
              "        }\n",
              "      </script>\n",
              "    </div>\n",
              "  </div>\n",
              "  "
            ]
          },
          "metadata": {},
          "execution_count": 14
        }
      ]
    },
    {
      "cell_type": "code",
      "source": [
        "plot=plt.figure(figsize=(4,8))\n",
        "sns.countplot(x='PoliticalParty',data=tax)"
      ],
      "metadata": {
        "colab": {
          "base_uri": "https://localhost:8080/",
          "height": 713
        },
        "id": "CbAo_u4p9uU4",
        "outputId": "068617b7-8147-4ca0-db77-8786f6015475"
      },
      "execution_count": null,
      "outputs": [
        {
          "output_type": "execute_result",
          "data": {
            "text/plain": [
              "<Axes: xlabel='PoliticalParty', ylabel='count'>"
            ]
          },
          "metadata": {},
          "execution_count": 15
        },
        {
          "output_type": "display_data",
          "data": {
            "text/plain": [
              "<Figure size 400x800 with 1 Axes>"
            ],
            "image/png": "[encoded data removed]"
          },
          "metadata": {}
        }
      ]
    },
    {
      "cell_type": "markdown",
      "source": [
        "Correlation"
      ],
      "metadata": {
        "id": "ZTFjHk2a_hAS"
      }
    },
    {
      "cell_type": "code",
      "source": [
        "correlation=tax.corr()"
      ],
      "metadata": {
        "id": "j7I5MMwG9uXP"
      },
      "execution_count": null,
      "outputs": []
    },
    {
      "cell_type": "code",
      "source": [
        "plt.figure(figsize=(4,4))\n",
        "sns.heatmap(tax.corr())"
      ],
      "metadata": {
        "colab": {
          "base_uri": "https://localhost:8080/",
          "height": 466
        },
        "id": "Z0WMpwHk9uZ0",
        "outputId": "b22f3b77-d042-4cfe-a226-721da08f3c29"
      },
      "execution_count": null,
      "outputs": [
        {
          "output_type": "execute_result",
          "data": {
            "text/plain": [
              "<Axes: >"
            ]
          },
          "metadata": {},
          "execution_count": 17
        },
        {
          "output_type": "display_data",
          "data": {
            "text/plain": [
              "<Figure size 400x400 with 2 Axes>"
            ],
            "image/png": "[encoded data removed]"
          },
          "metadata": {}
        }
      ]
    },
    {
      "cell_type": "markdown",
      "source": [
        "Data Preprocessing"
      ],
      "metadata": {
        "id": "4QqnAgkp_1B7"
      }
    },
    {
      "cell_type": "code",
      "source": [
        "x=tax.drop('PoliticalParty',axis=1)\n",
        "y=tax['PoliticalParty']"
      ],
      "metadata": {
        "id": "yOEJqO9O9ucd"
      },
      "execution_count": null,
      "outputs": []
    },
    {
      "cell_type": "code",
      "source": [
        "print(x)"
      ],
      "metadata": {
        "colab": {
          "base_uri": "https://localhost:8080/"
        },
        "id": "nAgCVpBr9uf0",
        "outputId": "0512c15a-c4c1-4f38-a0a5-5e92b288ca71"
      },
      "execution_count": null,
      "outputs": [
        {
          "output_type": "stream",
          "name": "stdout",
          "text": [
            "      Unnamed: 0     HHI    HHDL  Married  CollegGrads  AHHAge  Cars  \\\n",
            "0              1   49685  227187        0            0     105     0   \n",
            "1              2   64756 -507342        2            3      68     3   \n",
            "2              3  115435  521290        1            3      81     2   \n",
            "3              4   99454  251829        2            1      52     4   \n",
            "4              5  157274 -472337        0            1      28     1   \n",
            "...          ...     ...     ...      ...          ...     ...   ...   \n",
            "999         1000   37626   20830        0            1      38     4   \n",
            "1000        1001   79765   63483        2            1      71     5   \n",
            "1001        1002  111219 -573449        0            4      35     2   \n",
            "1002        1003  105591 -611207        0            1      59     1   \n",
            "1003        1004  201463  310275        1            3      58     5   \n",
            "\n",
            "      Filed in 2017  Filed in 2016  Filed in 2015  \n",
            "0                 1              1              1  \n",
            "1                 1              0              0  \n",
            "2                 0              1              0  \n",
            "3                 1              0              0  \n",
            "4                 1              0              1  \n",
            "...             ...            ...            ...  \n",
            "999               0              1              0  \n",
            "1000              0              1              0  \n",
            "1001              0              0              0  \n",
            "1002              1              1              0  \n",
            "1003              1              0              1  \n",
            "\n",
            "[1004 rows x 10 columns]\n"
          ]
        }
      ]
    },
    {
      "cell_type": "code",
      "source": [
        "print(y)"
      ],
      "metadata": {
        "colab": {
          "base_uri": "https://localhost:8080/"
        },
        "id": "ovUyMiSp_6fz",
        "outputId": "d7db74a4-1dae-46c9-e1f5-18610909ec21"
      },
      "execution_count": null,
      "outputs": [
        {
          "output_type": "stream",
          "name": "stdout",
          "text": [
            "0       1\n",
            "1       0\n",
            "2       2\n",
            "3       2\n",
            "4       0\n",
            "       ..\n",
            "999     1\n",
            "1000    2\n",
            "1001    2\n",
            "1002    2\n",
            "1003    2\n",
            "Name: PoliticalParty, Length: 1004, dtype: int64\n"
          ]
        }
      ]
    },
    {
      "cell_type": "markdown",
      "source": [
        "train and test split"
      ],
      "metadata": {
        "id": "p0EXGGq_Aj6K"
      }
    },
    {
      "cell_type": "code",
      "source": [
        "x_train,x_test,y_train,y_test=train_test_split(x,y,test_size=0.2,stratify=y,random_state=2)"
      ],
      "metadata": {
        "id": "SuPj-mVq_6j3"
      },
      "execution_count": null,
      "outputs": []
    },
    {
      "cell_type": "code",
      "source": [
        "print(x.shape,x_train.shape,x_test.shape)"
      ],
      "metadata": {
        "colab": {
          "base_uri": "https://localhost:8080/"
        },
        "id": "O-EORwhi_6pg",
        "outputId": "d7607952-6b8d-4019-da00-9249edb00b3c"
      },
      "execution_count": null,
      "outputs": [
        {
          "output_type": "stream",
          "name": "stdout",
          "text": [
            "(1004, 10) (803, 10) (201, 10)\n"
          ]
        }
      ]
    },
    {
      "cell_type": "code",
      "source": [
        "print(x_train)"
      ],
      "metadata": {
        "colab": {
          "base_uri": "https://localhost:8080/"
        },
        "id": "0Iws4swm_6s0",
        "outputId": "a8c2a98c-a2d5-4aad-e636-1a4430e54208"
      },
      "execution_count": null,
      "outputs": [
        {
          "output_type": "stream",
          "name": "stdout",
          "text": [
            "     Unnamed: 0     HHI    HHDL  Married  CollegGrads  AHHAge  Cars  \\\n",
            "839         840  150620   -5404        1            1      52     3   \n",
            "114         115  290799  116498        2            0      18     2   \n",
            "914         915  151963   77843        1            1      31     2   \n",
            "444         445  255838  958443        1            2      75     0   \n",
            "733         734  285512  467218        2            0      25     2   \n",
            "..          ...     ...     ...      ...          ...     ...   ...   \n",
            "401         402   17175 -292961        0            5      92     4   \n",
            "206         207  254469 -224440        0            5      91     5   \n",
            "691         692  129846  736629        0            4     101     4   \n",
            "455         456   75082  853800        0            4      20     1   \n",
            "471         472  219152  441277        1            1      85     0   \n",
            "\n",
            "     Filed in 2017  Filed in 2016  Filed in 2015  \n",
            "839              1              0              1  \n",
            "114              0              0              1  \n",
            "914              1              0              0  \n",
            "444              1              1              0  \n",
            "733              1              0              1  \n",
            "..             ...            ...            ...  \n",
            "401              1              1              1  \n",
            "206              0              1              0  \n",
            "691              0              0              0  \n",
            "455              1              1              1  \n",
            "471              0              1              0  \n",
            "\n",
            "[803 rows x 10 columns]\n"
          ]
        }
      ]
    },
    {
      "cell_type": "code",
      "source": [
        "print(y_train)"
      ],
      "metadata": {
        "colab": {
          "base_uri": "https://localhost:8080/"
        },
        "id": "kQ48iugA_6vE",
        "outputId": "aea58c1b-e38e-4744-e985-8f045cfc64c0"
      },
      "execution_count": null,
      "outputs": [
        {
          "output_type": "stream",
          "name": "stdout",
          "text": [
            "839    2\n",
            "114    2\n",
            "914    2\n",
            "444    2\n",
            "733    2\n",
            "      ..\n",
            "401    0\n",
            "206    1\n",
            "691    0\n",
            "455    1\n",
            "471    1\n",
            "Name: PoliticalParty, Length: 803, dtype: int64\n"
          ]
        }
      ]
    },
    {
      "cell_type": "markdown",
      "source": [
        "Model Training"
      ],
      "metadata": {
        "id": "PgjO55x-BJJ0"
      }
    },
    {
      "cell_type": "code",
      "source": [
        "model=RandomForestClassifier()"
      ],
      "metadata": {
        "id": "qkUd1h7m_6x4"
      },
      "execution_count": null,
      "outputs": []
    },
    {
      "cell_type": "code",
      "source": [
        "model.fit(x_train,y_train)"
      ],
      "metadata": {
        "colab": {
          "base_uri": "https://localhost:8080/",
          "height": 74
        },
        "id": "rx74QC93BMOe",
        "outputId": "b969d123-edfc-4f78-92ff-c3ecac060447"
      },
      "execution_count": null,
      "outputs": [
        {
          "output_type": "execute_result",
          "data": {
            "text/plain": [
              "RandomForestClassifier()"
            ],
            "text/html": [
              "<style>#sk-container-id-1 {color: black;background-color: white;}#sk-container-id-1 pre{padding: 0;}#sk-container-id-1 div.sk-toggleable {background-color: white;}#sk-container-id-1 label.sk-toggleable__label {cursor: pointer;display: block;width: 100%;margin-bottom: 0;padding: 0.3em;box-sizing: border-box;text-align: center;}#sk-container-id-1 label.sk-toggleable__label-arrow:before {content: \"▸\";float: left;margin-right: 0.25em;color: #696969;}#sk-container-id-1 label.sk-toggleable__label-arrow:hover:before {color: black;}#sk-container-id-1 div.sk-estimator:hover label.sk-toggleable__label-arrow:before {color: black;}#sk-container-id-1 div.sk-toggleable__content {max-height: 0;max-width: 0;overflow: hidden;text-align: left;background-color: #f0f8ff;}#sk-container-id-1 div.sk-toggleable__content pre {margin: 0.2em;color: black;border-radius: 0.25em;background-color: #f0f8ff;}#sk-container-id-1 input.sk-toggleable__control:checked~div.sk-toggleable__content {max-height: 200px;max-width: 100%;overflow: auto;}#sk-container-id-1 input.sk-toggleable__control:checked~label.sk-toggleable__label-arrow:before {content: \"▾\";}#sk-container-id-1 div.sk-estimator input.sk-toggleable__control:checked~label.sk-toggleable__label {background-color: #d4ebff;}#sk-container-id-1 div.sk-label input.sk-toggleable__control:checked~label.sk-toggleable__label {background-color: #d4ebff;}#sk-container-id-1 input.sk-hidden--visually {border: 0;clip: rect(1px 1px 1px 1px);clip: rect(1px, 1px, 1px, 1px);height: 1px;margin: -1px;overflow: hidden;padding: 0;position: absolute;width: 1px;}#sk-container-id-1 div.sk-estimator {font-family: monospace;background-color: #f0f8ff;border: 1px dotted black;border-radius: 0.25em;box-sizing: border-box;margin-bottom: 0.5em;}#sk-container-id-1 div.sk-estimator:hover {background-color: #d4ebff;}#sk-container-id-1 div.sk-parallel-item::after {content: \"\";width: 100%;border-bottom: 1px solid gray;flex-grow: 1;}#sk-container-id-1 div.sk-label:hover label.sk-toggleable__label {background-color: #d4ebff;}#sk-container-id-1 div.sk-serial::before {content: \"\";position: absolute;border-left: 1px solid gray;box-sizing: border-box;top: 0;bottom: 0;left: 50%;z-index: 0;}#sk-container-id-1 div.sk-serial {display: flex;flex-direction: column;align-items: center;background-color: white;padding-right: 0.2em;padding-left: 0.2em;position: relative;}#sk-container-id-1 div.sk-item {position: relative;z-index: 1;}#sk-container-id-1 div.sk-parallel {display: flex;align-items: stretch;justify-content: center;background-color: white;position: relative;}#sk-container-id-1 div.sk-item::before, #sk-container-id-1 div.sk-parallel-item::before {content: \"\";position: absolute;border-left: 1px solid gray;box-sizing: border-box;top: 0;bottom: 0;left: 50%;z-index: -1;}#sk-container-id-1 div.sk-parallel-item {display: flex;flex-direction: column;z-index: 1;position: relative;background-color: white;}#sk-container-id-1 div.sk-parallel-item:first-child::after {align-self: flex-end;width: 50%;}#sk-container-id-1 div.sk-parallel-item:last-child::after {align-self: flex-start;width: 50%;}#sk-container-id-1 div.sk-parallel-item:only-child::after {width: 0;}#sk-container-id-1 div.sk-dashed-wrapped {border: 1px dashed gray;margin: 0 0.4em 0.5em 0.4em;box-sizing: border-box;padding-bottom: 0.4em;background-color: white;}#sk-container-id-1 div.sk-label label {font-family: monospace;font-weight: bold;display: inline-block;line-height: 1.2em;}#sk-container-id-1 div.sk-label-container {text-align: center;}#sk-container-id-1 div.sk-container {/* jupyter's `normalize.less` sets `[hidden] { display: none; }` but bootstrap.min.css set `[hidden] { display: none !important; }` so we also need the `!important` here to be able to override the default hidden behavior on the sphinx rendered scikit-learn.org. See: https://github.com/scikit-learn/scikit-learn/issues/21755 */display: inline-block !important;position: relative;}#sk-container-id-1 div.sk-text-repr-fallback {display: none;}</style><div id=\"sk-container-id-1\" class=\"sk-top-container\"><div class=\"sk-text-repr-fallback\"><pre>RandomForestClassifier()</pre><b>In a Jupyter environment, please rerun this cell to show the HTML representation or trust the notebook. <br />On GitHub, the HTML representation is unable to render, please try loading this page with nbviewer.org.</b></div><div class=\"sk-container\" hidden><div class=\"sk-item\"><div class=\"sk-estimator sk-toggleable\"><input class=\"sk-toggleable__control sk-hidden--visually\" id=\"sk-estimator-id-1\" type=\"checkbox\" checked><label for=\"sk-estimator-id-1\" class=\"sk-toggleable__label sk-toggleable__label-arrow\">RandomForestClassifier</label><div class=\"sk-toggleable__content\"><pre>RandomForestClassifier()</pre></div></div></div></div></div>"
            ]
          },
          "metadata": {},
          "execution_count": 26
        }
      ]
    },
    {
      "cell_type": "markdown",
      "source": [
        "Model Evaluaation"
      ],
      "metadata": {
        "id": "LaalLA_eBXD2"
      }
    },
    {
      "cell_type": "code",
      "source": [
        "x_train_prediction=model.predict(x_train)\n",
        "training_data_accuracy=accuracy_score(x_train_prediction,y_train)"
      ],
      "metadata": {
        "id": "mT0mZS5vBMQu"
      },
      "execution_count": null,
      "outputs": []
    },
    {
      "cell_type": "code",
      "source": [
        "print('accuracy on training data:',training_data_accuracy)"
      ],
      "metadata": {
        "colab": {
          "base_uri": "https://localhost:8080/"
        },
        "id": "lEgaAC18BMTV",
        "outputId": "04cdee8c-f512-4e60-af8f-b0b45e92088a"
      },
      "execution_count": null,
      "outputs": [
        {
          "output_type": "stream",
          "name": "stdout",
          "text": [
            "accuracy on training data: 1.0\n"
          ]
        }
      ]
    },
    {
      "cell_type": "code",
      "source": [
        "x_test_prediction=model.predict(x_test)\n",
        "test_data_accuracy=accuracy_score(x_test_prediction,y_test)"
      ],
      "metadata": {
        "id": "4OO6D_IIBMV5"
      },
      "execution_count": null,
      "outputs": []
    },
    {
      "cell_type": "code",
      "source": [
        "print('accuracy on testing data:',test_data_accuracy)"
      ],
      "metadata": {
        "colab": {
          "base_uri": "https://localhost:8080/"
        },
        "id": "-sfoW_lfBMZT",
        "outputId": "27aa9fc1-f1b4-4317-ee74-84fb320f9a92"
      },
      "execution_count": null,
      "outputs": [
        {
          "output_type": "stream",
          "name": "stdout",
          "text": [
            "accuracy on testing data: 0.39303482587064675\n"
          ]
        }
      ]
    },
    {
      "cell_type": "markdown",
      "source": [
        "Building a predictive system"
      ],
      "metadata": {
        "id": "_fSzXFQzCNUs"
      }
    },
    {
      "cell_type": "code",
      "source": [
        "input_data=(18,98778,949616,0,4,60,3,1,0,0)\n",
        "input_data_as_numpy_array=np.array(input_data)\n",
        "input_data_reshaped=input_data_as_numpy_array.reshape(1,-1)\n",
        "prediction=model.predict(input_data_reshaped)\n",
        "print(prediction)"
      ],
      "metadata": {
        "colab": {
          "base_uri": "https://localhost:8080/"
        },
        "id": "woPH_iIB_61Q",
        "outputId": "14a8fe7b-dbbb-4eb7-c801-1679743a952b"
      },
      "execution_count": null,
      "outputs": [
        {
          "output_type": "stream",
          "name": "stdout",
          "text": [
            "[2]\n"
          ]
        },
        {
          "output_type": "stream",
          "name": "stderr",
          "text": [
            "/usr/local/lib/python3.10/dist-packages/sklearn/base.py:439: UserWarning: X does not have valid feature names, but RandomForestClassifier was fitted with feature names\n",
            "  warnings.warn(\n"
          ]
        }
      ]
    },
    {
      "cell_type": "code",
      "source": [
        "if(prediction[0]==0):\n",
        "  print(\"The person is independent\")\n",
        "elif(prediction[0]==1):\n",
        "  print(\"The person is Democrat\")\n",
        "else:\n",
        "  print(\"The person is Republican\")"
      ],
      "metadata": {
        "colab": {
          "base_uri": "https://localhost:8080/"
        },
        "id": "yOkOd8S-CT4T",
        "outputId": "fc525df9-d794-46d8-f125-e3376ea7a7a9"
      },
      "execution_count": null,
      "outputs": [
        {
          "output_type": "stream",
          "name": "stdout",
          "text": [
            "The person is Republican\n"
          ]
        }
      ]
    }
  ]
}